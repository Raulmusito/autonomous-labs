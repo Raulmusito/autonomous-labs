{
 "cells": [
  {
   "cell_type": "code",
   "execution_count": 17,
   "metadata": {},
   "outputs": [],
   "source": [
    "import numpy as np\n",
    "import matplotlib\n",
    "from matplotlib import pyplot as plt\n",
    "from PIL import Image\n",
    "import cv2\n",
    "import pandas as pd\n",
    "\n",
    "env = \"env_0\"\n"
   ]
  },
  {
   "cell_type": "code",
   "execution_count": 36,
   "metadata": {},
   "outputs": [
    {
     "name": "stdout",
     "output_type": "stream",
     "text": [
      "Polygon2((0.6, 8) ...)\n",
      "Polygon4((3, 8.2) ...)\n"
     ]
    },
    {
     "data": {
      "image/png": "[encoded data removed]",
      "text/plain": [
       "<Figure size 640x480 with 1 Axes>"
      ]
     },
     "metadata": {},
     "output_type": "display_data"
    }
   ],
   "source": [
    "vertices = pd.read_csv(env+\".csv\")\n",
    "first_column_data = vertices[vertices.columns[0]]\n",
    "a = []\n",
    "b = []\n",
    "pol_number = 0\n",
    "\n",
    "xs, ys = vertices[vertices.columns[1]][0], vertices[vertices.columns[2]][0] \n",
    "\n",
    "for i in range (len(first_column_data)):\n",
    "    x,y = vertices[vertices.columns[1]][i], vertices[vertices.columns[2]][i] \n",
    "\n",
    "    if pol_number != vertices[vertices.columns[0]][i]:\n",
    "        b.append(matplotlib.patches.Polygon(a, facecolor = 'k'))\n",
    "        pol_number = vertices[vertices.columns[0]][i]\n",
    "        a = []\n",
    "    a.append([x,y])\n",
    "\n",
    "xg, yg = x,y\n",
    "fig,ax = plt.subplots()\n",
    "\n",
    "for i in b:\n",
    "    print (i)\n",
    "    ax.add_patch(i)\n",
    "\n",
    "ax.scatter(xs,ys, marker = \"x\", c=\"g\")\n",
    "ax.scatter(xg,yg, marker = \"x\", c=\"r\")\n",
    "ax.set_xlim([0,15])\n",
    "ax.set_ylim([0,10])\n",
    "plt.show()"
   ]
  },
  {
   "cell_type": "code",
   "execution_count": null,
   "metadata": {},
   "outputs": [],
   "source": [
    "vertices = pd.read_csv(\"visibility_graph_env_0.csv\")\n",
    "\n",
    "\n"
   ]
  }
 ],
 "metadata": {
  "kernelspec": {
   "display_name": "Python 3",
   "language": "python",
   "name": "python3"
  },
  "language_info": {
   "codemirror_mode": {
    "name": "ipython",
    "version": 3
   },
   "file_extension": ".py",
   "mimetype": "text/x-python",
   "name": "python",
   "nbconvert_exporter": "python",
   "pygments_lexer": "ipython3",
   "version": "3.10.12"
  }
 },
 "nbformat": 4,
 "nbformat_minor": 2
}
