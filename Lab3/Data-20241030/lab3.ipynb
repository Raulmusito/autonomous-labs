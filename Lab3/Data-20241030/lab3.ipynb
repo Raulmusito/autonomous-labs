{
 "cells": [
  {
   "cell_type": "code",
   "execution_count": null,
   "metadata": {},
   "outputs": [],
   "source": [
    "import numpy as np\n",
    "import matplotlib\n",
    "from matplotlib import pyplot as plt\n",
    "from PIL import Image\n",
    "import cv2\n",
    "import pandas as pd\n",
    "\n"
   ]
  },
  {
   "cell_type": "code",
   "execution_count": 18,
   "metadata": {},
   "outputs": [
    {
     "name": "stdout",
     "output_type": "stream",
     "text": [
      "[[[14.0, 10.1]], [[17.0, 16.5], [14.9, 16.9], [13.2, 18.4], [12.2, 21.5], [13.0, 25.0], [17.1, 25.4], [22.0, 24.4], [25.5, 25.0], [28.2, 24.3], [28.5, 21.4], [28.9, 18.5], [31.2, 16.8], [33.7, 16.3], [36.3, 15.9], [39.2, 16.5], [42.8, 17.6], [46.5, 16.8], [42.8, 15.2], [37.8, 12.9], [35.0, 12.0], [28.9, 12.3], [25.0, 12.8], [22.3, 15.0], [20.1, 17.7], [18.6, 20.6], [17.3, 22.5], [14.9, 23.2], [15.7, 21.5], [15.4, 19.6], [16.5, 18.0]], [37.5, 23.8]]\n"
     ]
    },
    {
     "data": {
      "image/png": "[encoded data removed]",
      "text/plain": [
       "<Figure size 640x480 with 1 Axes>"
      ]
     },
     "metadata": {},
     "output_type": "display_data"
    }
   ],
   "source": [
    "env = \"mx\"\n",
    "vertices = pd.read_csv(\"env_\"+env+\".csv\")\n",
    "\n",
    "first_column_data = vertices[vertices.columns[0]]\n",
    "a = []\n",
    "polygons = []\n",
    "pol_number = 0\n",
    "\n",
    "xs, ys = vertices[vertices.columns[1]][0], vertices[vertices.columns[2]][0] \n",
    "\n",
    "for i in range (len(first_column_data)):\n",
    "    x,y = vertices[vertices.columns[1]][i], vertices[vertices.columns[2]][i] \n",
    "\n",
    "    if pol_number != vertices[vertices.columns[0]][i]:\n",
    "        polygons.append(a)\n",
    "        pol_number = vertices[vertices.columns[0]][i]\n",
    "        a = []\n",
    "    a.append([x,y])\n",
    "\n",
    "xg, yg = x,y\n",
    "polygons.append([xg,yg])\n",
    "print (polygons)\n",
    "fig,ax = plt.subplots()\n",
    "\n",
    "for i in range(1, len(polygons)-1):\n",
    "    \n",
    "    ax.add_patch(matplotlib.patches.Polygon(polygons[i], facecolor = 'k'))\n",
    "\n",
    "min_x = min(vertices[vertices.columns[1]])\n",
    "max_x = max(vertices[vertices.columns[1]])\n",
    "min_y = min(vertices[vertices.columns[2]])\n",
    "max_y = max(vertices[vertices.columns[2]])\n",
    "\n",
    "mean_x = (min_x + max_x)/4\n",
    "mean_y = (min_y + max_y)/4\n",
    "\n",
    "ax.scatter(xs,ys, marker = \"x\", c=\"g\")\n",
    "ax.scatter(xg,yg, marker = \"x\", c=\"r\")\n",
    "ax.set_xlim([min_x - mean_x, max_x + mean_x])\n",
    "ax.set_ylim([min_y - mean_y, max_y + mean_y])\n",
    "plt.show()\n"
   ]
  },
  {
   "cell_type": "code",
   "execution_count": null,
   "metadata": {},
   "outputs": [
    {
     "ename": "SyntaxError",
     "evalue": "invalid syntax (506324825.py, line 7)",
     "output_type": "error",
     "traceback": [
      "\u001b[0;36m  Cell \u001b[0;32mIn[17], line 7\u001b[0;36m\u001b[0m\n\u001b[0;31m    plot_line(x1, y1'b')\u001b[0m\n\u001b[0m                    ^\u001b[0m\n\u001b[0;31mSyntaxError\u001b[0m\u001b[0;31m:\u001b[0m invalid syntax\n"
     ]
    }
   ],
   "source": [
    "lines = pd.read_csv(\"visibility_graph_env_\"+env+\".csv\")\n",
    "connections = []\n",
    "\n",
    "first_column_data = lines[lines.columns[0]]\n",
    "\n",
    "for i in range (len(first_column_data)):y1\n",
    "    x1,y1 = lines[lines.columns[1]][i], lines[lines.columns[2]][i]\n",
    "    connections = vertices[vertices.columns[1]][x1], vertices[vertices.columns[2]][] \n",
    "    \n",
    "plt.show()"
   ]
  }
 ],
 "metadata": {
  "kernelspec": {
   "display_name": "Python 3",
   "language": "python",
   "name": "python3"
  },
  "language_info": {
   "codemirror_mode": {
    "name": "ipython",
    "version": 3
   },
   "file_extension": ".py",
   "mimetype": "text/x-python",
   "name": "python",
   "nbconvert_exporter": "python",
   "pygments_lexer": "ipython3",
   "version": "3.10.12"
  }
 },
 "nbformat": 4,
 "nbformat_minor": 2
}
