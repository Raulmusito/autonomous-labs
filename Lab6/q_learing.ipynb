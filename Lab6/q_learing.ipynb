{
 "cells": [
  {
   "cell_type": "markdown",
   "metadata": {
    "id": "oTBbTsk4vGkY"
   },
   "source": [
    "# **Robot Learning – Reinforcement Learning**"
   ]
  },
  {
   "cell_type": "markdown",
   "metadata": {
    "id": "qCnQbiFVvG0A"
   },
   "source": [
    "The goal of this practical exercise is to implement a Reinforcement Learning algorithm to learn a policy that moves a robot to a goal position. The algorithm is the Q-learning algorithm.\n",
    "\n",
    "## The Problem\n",
    "The problem consists in finding the goal in a finite 2D environment that is closed and contains some obstacles.\n",
    "\n",
    "**States and actions:** The size of the environment is 20x14=280 states. The robot can only do 4 different actions: {←, ↑, →, ↓} (not diagonal movements!). Therefore the size of the Q function will be 280x4=1120 cells.\n",
    "\n",
    "**Dynamics:** The robot can be located in any free cell (not in the obstacle cells!). The function that describes the dynamics is very simple: the robot will move ONE cell per iteration to the direction of the action that we select, unless there is an obstacle or the wall in front of it, in which case it will\n",
    "stay in the same position.\n",
    "\n",
    "**Reinforcement function:** Since the goal is to reach the goal position as fast as possible, the reinforcement function will give -1 in all cells except in the goal cell, where the reward will be +1. The cell that contains the goal is (3,17)."
   ]
  },
  {
   "cell_type": "markdown",
   "metadata": {
    "id": "GIrgWmuPulz-"
   },
   "source": [
    "## Data"
   ]
  },
  {
   "cell_type": "markdown",
   "metadata": {
    "id": "9so0pzxsvUyn"
   },
   "source": [
    "Next you have the map that will be used as the environment for the Q-learning algorithm:"
   ]
  },
  {
   "cell_type": "code",
   "execution_count": 188,
   "metadata": {
    "id": "CggQ83Bzul0E"
   },
   "outputs": [
    {
     "data": {
      "image/png": "[encoded data removed]",
      "text/plain": [
       "<Figure size 685.714x480 with 2 Axes>"
      ]
     },
     "metadata": {},
     "output_type": "display_data"
    }
   ],
   "source": [
    "%matplotlib inline\n",
    "\n",
    "\n",
    "from matplotlib import pyplot as plt\n",
    "import numpy as np\n",
    "\n",
    "# Proposed Map\n",
    "map=[\n",
    "[1, 1, 1, 1, 1, 1, 1, 1, 1, 1, 1, 1, 1, 1, 1, 1, 1, 1, 1, 1],\n",
    "[1, 0, 0, 0, 0, 0, 1, 1, 0, 0, 0, 0, 0, 0, 1, 1, 0, 0, 0, 1],\n",
    "[1, 0, 0, 0, 0, 0, 1, 1, 0, 0, 0, 0, 0, 0, 1, 1, 0, 0, 0, 1],\n",
    "[1, 0, 0, 0, 0, 0, 0, 0, 0, 0, 0, 0, 0, 0, 1, 1, 0, 0, 0, 1],\n",
    "[1, 0, 0, 0, 0, 0, 0, 0, 0, 0, 0, 0, 0, 0, 1, 1, 0, 0, 0, 1],\n",
    "[1, 0, 0, 0, 1, 1, 1, 1, 1, 0, 0, 0, 0, 0, 1, 1, 0, 0, 0, 1],\n",
    "[1, 0, 0, 0, 1, 1, 1, 1, 1, 0, 0, 0, 0, 0, 0, 0, 0, 0, 0, 1],\n",
    "[1, 0, 0, 0, 0, 0, 0, 1, 1, 0, 0, 0, 0, 0, 0, 0, 0, 0, 0, 1],\n",
    "[1, 0, 0, 0, 0, 0, 0, 1, 1, 0, 0, 0, 0, 0, 0, 0, 0, 0, 0, 1],\n",
    "[1, 0, 0, 0, 0, 0, 0, 1, 1, 0, 0, 0, 0, 0, 1, 0, 0, 0, 0, 1],\n",
    "[1, 0, 0, 0, 0, 0, 0, 0, 0, 0, 0, 0, 0, 1, 1, 0, 0, 0, 0, 1],\n",
    "[1, 0, 0, 0, 0, 0, 0, 0, 0, 0, 0, 0, 1, 1, 1, 0, 0, 0, 0, 1],\n",
    "[1, 0, 0, 0, 0, 0, 0, 0, 0, 0, 0, 1, 1, 1, 1, 0, 0, 0, 0, 1],\n",
    "[1, 1, 1, 1, 1, 1, 1, 1, 1, 1, 1, 1, 1, 1, 1, 1, 1, 1, 1, 1]]\n",
    "\n",
    "\n",
    "# Convert Map 2D array to Numpy array\n",
    "grid_map = np.array(map)\n",
    "\n",
    "# Show grid map\n",
    "plt.matshow(grid_map, cmap = \"jet\")\n",
    "plt.title('Base Map')\n",
    "plt.colorbar()\n",
    "\n",
    "plt.show()"
   ]
  },
  {
   "cell_type": "markdown",
   "metadata": {
    "id": "luRN-DT83C7j"
   },
   "source": [
    "## Algorithm\n",
    "\n",
    "In order to implement the Q-learning algorithm, you should follow the next pseudocode:\n",
    "\n",
    "```verbatim\n",
    "Initialize Q(s,a) to 0 or random\n",
    "For n episodes:\n",
    "    Initialize s randomly in any free cell\n",
    "    repeat:\n",
    "        Choose action 'a' following epsilon-greedy policy\n",
    "        Take action a, observe r and s'\n",
    "        Q(s,a) <- Q(s,a) + alpha * (r + gamma * max_a Q(s',a)) - Q(s,a)\n",
    "        s <- s'\n",
    "    until the episode terminates\n",
    "endFor\n",
    "```\n",
    "\n",
    "You will have to set several parameters experimentally: n, m, epsilon, alpha and gamma."
   ]
  },
  {
   "cell_type": "markdown",
   "metadata": {
    "id": "O_BIOfiSul0H"
   },
   "source": [
    "## Environment"
   ]
  },
  {
   "cell_type": "markdown",
   "metadata": {
    "id": "45Wso3k5x0ab"
   },
   "source": [
    "In the environment class, you set the possible actions, the rewards obtained depending of those actions and the state of the agent after the action is applied.\n",
    "\n",
    "You have to fill the empty functions following the previous pseudocode."
   ]
  },
  {
   "cell_type": "code",
   "execution_count": 189,
   "metadata": {
    "id": "LXZAnv09ul0I"
   },
   "outputs": [],
   "source": [
    "%matplotlib inline\n",
    "\n",
    "\n",
    "from matplotlib import pyplot as plt\n",
    "import numpy as np\n",
    "\n",
    "class MapEnv:\n",
    "    def __init__(self, map, goal, max_steps):\n",
    "        self.map = map\n",
    "        self.current_state = None\n",
    "        self.goal = goal.astype(np.int32)\n",
    "        self.actions = 4\n",
    "        self.steps = 0\n",
    "        self.max_steps = max_steps\n",
    "        if map[goal[0], goal[1]] != 0:\n",
    "            raise ValueError(\"Goal position is an obstacle\")\n",
    "\n",
    "    def reset(self):\n",
    "        # start the agent in a random position within the map and return agent state (cell in which it is)\n",
    "        self.steps = 0\n",
    "        free_cells = np.argwhere(self.map == 0)\n",
    "        if len(free_cells) == 0:\n",
    "            raise ValueError(\"Map contains no free cells to place the agent.\")\n",
    "        r = free_cells[np.random.choice(len(free_cells))]\n",
    "\n",
    "        self.current_state = tuple(r)\n",
    "        return self.current_state\n",
    " \n",
    "\n",
    "    def step(self, action):\n",
    "      # this function applies the action taken and returns the obtained state, a reward and a boolean that says if the episode has ended (max steps or goal reached) or not (any other case)\n",
    "      # action: 0 = up, 1 = down, 2 = left, 3 = right\n",
    "      ended = False\n",
    "      reward = -1\n",
    "      a = [(-1, 0), (1, 0),(0, -1),(0, 1)]\n",
    "\n",
    "      x,y = self.get_state()\n",
    "      new_state = self.current_state\n",
    "      dx,dy = a[action]\n",
    "      if 0 <= x+dx < self.map.shape[0] and 0 <= y+dy < self.map.shape[1] and self.map[x+dx,y+dy]!=1:\n",
    "        \n",
    "        new_state = x+dx,y+dy\n",
    "        \n",
    "        if new_state== tuple(self.goal): \n",
    "          reward = 1\n",
    "          ended = True\n",
    "        else: reward =-1\n",
    "\n",
    "      if self.steps == self.max_steps:\n",
    "        ended =True \n",
    "          \n",
    "      self.current_state = new_state\n",
    "      self.steps+=1\n",
    "\n",
    "      return new_state,reward,ended\n",
    "\n",
    "    def get_state(self):\n",
    "      # returns current state\n",
    "      return self.current_state\n",
    "\n",
    "    def render(self, i=0):\n",
    "        plt.clf()\n",
    "        plt.matshow(self.map, cmap = \"jet\")\n",
    "        plt.title('Map')\n",
    "        plt.colorbar()\n",
    "        plt.scatter(self.current_state[1], self.current_state[0], c = 'r')\n",
    "        plt.scatter(self.goal[1], self.goal[0], c = 'g')\n",
    "        # plt.savefig(\"q_learning_{0:04}.png\".format(i), dpi = 300)\n",
    "        # plt.show()\n",
    "        plt.pause(0.1) \n",
    "\n",
    "    def render_live(self, i=0, episodic_reward=0, avg_reward=0, goal_reached=False, save_frames=True):\n",
    "        global fig, ax, im, goal_plot, agent_plot\n",
    "\n",
    " \n",
    "        \"\"\"\n",
    "        if episodic_reward is not None:\n",
    "            self.ax.text(\n",
    "                0.05, 0.98, f\"Episodic Reward: {int(episodic_reward)}\", \n",
    "                transform=self.ax.transAxes, fontsize=10, color=\"white\", \n",
    "                verticalalignment=\"top\", horizontalalignment=\"left\", \n",
    "                fontweight='bold' \n",
    "                \n",
    "            )\n",
    "        if avg_reward is not None:\n",
    "            self.ax.text(\n",
    "                0.65, 0.98, f\"Average Reward: {int(avg_reward)}\", \n",
    "                transform=self.ax.transAxes, fontsize=10, color=\"white\", \n",
    "                verticalalignment=\"top\", horizontalalignment=\"left\", \n",
    "                fontweight='bold' \n",
    "            ) \n",
    "        \n",
    "        if goal_reached:\n",
    "           self.ax.text(\n",
    "                0.4, 0.98, f\"Goal Reached!\", \n",
    "                transform=self.ax.transAxes, fontsize=10, color=\"white\", \n",
    "                verticalalignment=\"top\", horizontalalignment=\"left\", \n",
    "                fontweight='bold' \n",
    "            ) \n",
    "        \"\"\"\n",
    "        if save_frames:\n",
    "            self.fig.savefig(f\"q_learning_{i:04}.png\", dpi=300)  # Save frames\n",
    "\n"
   ]
  },
  {
   "cell_type": "markdown",
   "metadata": {
    "id": "OXg1_4u6ul0K"
   },
   "source": [
    "## QLearning algorithm"
   ]
  },
  {
   "cell_type": "markdown",
   "metadata": {
    "id": "k7uF89DbFVVq"
   },
   "source": [
    "QLearning class creates and trains the policy at every episode using the information provided by the environment. After the training is over, the optimal policy and the value function are obtained.\n",
    "\n",
    "As in the MapEnv class, you have to fill the empty functions following the previous pseudocode."
   ]
  },
  {
   "cell_type": "code",
   "execution_count": 190,
   "metadata": {
    "id": "3qnWaAKPul0L"
   },
   "outputs": [],
   "source": [
    "\n",
    "import tqdm\n",
    "\n",
    "class QLearning:\n",
    "    def __init__(self, env, alpha, gamma, epsilon, n_episodes,visualize):\n",
    "        self.avg_reward = 0\n",
    "        self.env = env\n",
    "        self.alpha = alpha\n",
    "        self.gamma = gamma\n",
    "        self.epsilon = epsilon\n",
    "        self.n_episodes = n_episodes \n",
    "        self.Q = np.random.rand(env.map.shape[0], env.map.shape[1], env.actions)\n",
    "\n",
    "    def epsilon_greedy_policy(self, s, epsilon):\n",
    "        # Epsilon greedy policy (choose a random action with probability epsilon)\n",
    "        a = None\n",
    "        r = np.random.rand()\n",
    "        if r<=epsilon: a = np.random.choice(range(self.env.actions))\n",
    "        else: a = np.argmax(self.Q[s]) #a = np.max(self.Q)\n",
    "        return a\n",
    "    \n",
    "    def episode(self, alpha, epsilon,render=False):\n",
    "        # Episode execution. Generate an action with epsilon_greedy_policy, call step, appy learning function\n",
    "        # This function should return the total reward obtained in this episode\n",
    "        # ...\n",
    "        a = None\n",
    "        episodic_reward = 0\n",
    "        self.env.current_state= self.env.reset()\n",
    "        prev_state = self.env.get_state()\n",
    "        for step in range(self.env.max_steps):\n",
    "            a = self.epsilon_greedy_policy(prev_state,epsilon)\n",
    "            new_state,reward,ended = self.env.step(a)\n",
    "            self.Q[prev_state[0],prev_state[1],a] = self.Q[prev_state[0],prev_state[1],a] + \\\n",
    "            alpha * (reward + self.gamma * np.max(self.Q[new_state[0],new_state[1],:]) - self.Q[prev_state[0],prev_state[1],a])\n",
    "\n",
    "            # self.Q[prev_state[0],prev_state[1],a] =  self.Q[prev_state[0],prev_state[1],a] + \\\n",
    "            #     alpha*(reward+self.gamma*np.max(self.Q[new_state[0],new_state[1],:]))-self.Q[prev_state[0],prev_state[1],a]\n",
    "            # print(\"prev_state\",prev_state,\"action:\",a,\" next_state:\",new_state)\n",
    "            prev_state = new_state\n",
    "            episodic_reward+=reward\n",
    "            # print(\"epi_reward:\",episodic_rewar\n",
    "            if render:\n",
    "                self.env.render_live(episodic_reward=episodic_reward,avg_reward=self.avg_reward)\n",
    "            if ended:\n",
    "                break\n",
    "        \n",
    "        return episodic_reward\n",
    "\n",
    "    def train(self, n_episodes, check_every_n=100,render=True):\n",
    "        \"\"\"Execute n_episodes and every `check_every_n` episodes print the average reward and store it.\n",
    "           As the initial position is random, this number will not be super stable...\"\"\"\n",
    "        reward = []\n",
    "        for eps in tqdm.tqdm(range(n_episodes)):\n",
    "            r = self.episode(self.alpha,self.epsilon,render)\n",
    "            if eps%check_every_n==0:\n",
    "                reward.append(r)\n",
    "                self.avg_reward=sum(reward)/len(reward)\n",
    "                # print(\"Average Reward:\",sum(reward)/len(reward))\n",
    "        print(\"Average Reward:\",sum(reward)/len(reward))\n",
    "\n",
    "    def test_episode(self,policy):\n",
    "        print(\"Testing Episode\")\n",
    "        # Episode execution. Generate an action with epsilon_greedy_policy, call step, appy learning function\n",
    "        # This function should return the total reward obtained in this episode\n",
    "        # ...\n",
    "        a = None\n",
    "        goal_reached=False\n",
    "        episodic_reward = 0\n",
    "        self.env.current_state= self.env.reset()\n",
    "        prev_state = self.env.get_state()\n",
    "        for step in range(self.env.max_steps): \n",
    "            a = policy[prev_state]\n",
    "            new_state,reward,ended = self.env.step(a)\n",
    "            prev_state = new_state\n",
    "            episodic_reward+=reward\n",
    "            # print(\"epi_reward:\",episodic_reward)\n",
    "            if new_state ==  tuple(self.env.goal):\n",
    "                print(\"Goal Reached\\n\")\n",
    "                goal_reached = True\n",
    "\n",
    "            ######################################################################################################################\n",
    "            if not hasattr(self, 'fig'):\n",
    "                # Create the figure and axis, and plot the map once\n",
    "                self.fig, self.ax = plt.subplots()\n",
    "                self.im = self.ax.imshow(self.env.map, cmap=\"jet\")\n",
    "                self.goal_plot, = self.ax.plot([self.env.goal[1]], [self.env.goal[0]], 'go')  # Goal (green)\n",
    "                self.agent_plot, = self.ax.plot([self.env.current_state[1]], [self.env.current_state[0]], 'ro')  # Agent (red)\n",
    "            else:\n",
    "                # Update the goal and agent position without clearing the axis\n",
    "                self.agent_plot.set_data([self.env.current_state[1]], [self.env.current_state[0]])  # Update agent position  \n",
    "                print(\"Step:\",step)\n",
    "            self.fig.canvas.draw_idle() \n",
    "            plt.pause(0.2)  \n",
    "            ######################################################################################################################3\n",
    "            #self.env.render_live(i = step, episodic_reward=episodic_reward,avg_reward=None,goal_reached=goal_reached)\n",
    "            #plt.show()\n",
    "            if ended:\n",
    "                break\n",
    "\n",
    "    def get_optimal_policy(self):\n",
    "        \"\"\"Once training is done, retrieve the optimal policy from Q(s,a).\"\"\"\n",
    "        policy = np.zeros(self.env.map.shape, dtype=int)\n",
    "        states = np.argwhere(self.env.map == 0)\n",
    "        for s in states:\n",
    "            opt_a = np.argmax(self.Q[s[0],s[1],:]) #in a particlar state check for best action\n",
    "            policy[s[0],s[1]]=opt_a\n",
    "        return policy\n",
    "\n",
    "    def value_function(self):\n",
    "        \"\"\"Once training is done, retrieve the optimal value function from from Q(s,a)\"\"\"\n",
    "        v = np.max(self.Q, axis = 2)\n",
    "        v[self.env.map == 1] = -np.inf\n",
    "        return v\n"
   ]
  },
  {
   "cell_type": "markdown",
   "metadata": {
    "id": "MHXBD26aul0N"
   },
   "source": [
    "## Training"
   ]
  },
  {
   "cell_type": "markdown",
   "metadata": {
    "id": "7U2V6wf_-ZVP"
   },
   "source": [
    "For the training you need to choose some parameters experimentally. Test different values to see how the training results change.\n",
    "\n",
    "Parameters:\n",
    "\n",
    "* **alpha**: learning rate of the algorithm\n",
    "* **gamma**: discount factor of the algorithm\n",
    "* **epsilon**: random action probability\n",
    "* **n_episodes**: number of episode repetitions\n",
    "* **max_steps**: maximum number of iterations per episode (in Environment class)"
   ]
  },
  {
   "cell_type": "code",
   "execution_count": 191,
   "metadata": {
    "id": "eLtF2eDUul0O"
   },
   "outputs": [
    {
     "name": "stderr",
     "output_type": "stream",
     "text": [
      "  0%|          | 0/1000 [00:00<?, ?it/s]"
     ]
    },
    {
     "name": "stderr",
     "output_type": "stream",
     "text": [
      "100%|██████████| 1000/1000 [00:00<00:00, 1598.14it/s]"
     ]
    },
    {
     "name": "stdout",
     "output_type": "stream",
     "text": [
      "Average Reward: -42.0\n"
     ]
    },
    {
     "name": "stderr",
     "output_type": "stream",
     "text": [
      "\n"
     ]
    }
   ],
   "source": [
    "# Create an environment and a QLearning agent to learn it. Plot the averaged rewards stored.\n",
    "# print(np.shape(grid_map))\n",
    "# Create an environment and a QLearning agent to learn it. Plot the averaged rewards stored.\n",
    "eps=1000\n",
    "eps_steps = 50\n",
    "env = MapEnv(map=grid_map, goal=np.array([4, 4]), max_steps=eps_steps)\n",
    "agent = QLearning(env, alpha=0.01, gamma=0.95, epsilon=0.5, n_episodes=eps, visualize=False)\n",
    "agent.train(n_episodes=eps, check_every_n=eps/4, render=False)\n",
    "optimal_policy = agent.get_optimal_policy()\n",
    "optimal_value = agent.value_function()\n"
   ]
  },
  {
   "cell_type": "markdown",
   "metadata": {
    "id": "hJWZblvUul0O"
   },
   "source": [
    "## Plot value function and optimal policy"
   ]
  },
  {
   "cell_type": "code",
   "execution_count": 192,
   "metadata": {
    "id": "w_z8566Oul0P"
   },
   "outputs": [
    {
     "data": {
      "image/png": "[encoded data removed]",
      "text/plain": [
       "<Figure size 640x480 with 4 Axes>"
      ]
     },
     "metadata": {},
     "output_type": "display_data"
    }
   ],
   "source": [
    "# Plot the value function (see included figure)\n",
    "plt.subplot(1, 2, 1)\n",
    "plt.imshow(optimal_value, cmap=\"viridis\", interpolation=\"nearest\")\n",
    "plt.colorbar(label=\"Value (V(s))\")\n",
    "plt.title(\"Value Function\")\n",
    "plt.xlabel(\"State (Column)\")\n",
    "plt.ylabel(\"State (Row)\")\n",
    "\n",
    "# Plot policy (see included figure)\n",
    "plt.subplot(1, 2, 2)\n",
    "plt.imshow(optimal_policy, cmap=\"viridis\", interpolation=\"nearest\")\n",
    "plt.colorbar(label=\"Action\")\n",
    "plt.title(\"Optimal Policy\")\n",
    "plt.xlabel(\"State (Column)\")\n",
    "plt.ylabel(\"State (Row)\")\n",
    "\n",
    "plt.tight_layout()\n",
    "plt.show()"
   ]
  },
  {
   "cell_type": "markdown",
   "metadata": {
    "id": "G0HhgeIAul0Q"
   },
   "source": [
    "## Test current Policy"
   ]
  },
  {
   "cell_type": "markdown",
   "metadata": {
    "id": "To2nTQUn_HGM"
   },
   "source": [
    "Once the training is over, we can see what the robot has learnt to do. You can test it with other goal positions and other maps, to see of the policy is able to adapt to other situations."
   ]
  },
  {
   "cell_type": "code",
   "execution_count": 193,
   "metadata": {
    "id": "RTV2Y3nda1k-"
   },
   "outputs": [
    {
     "name": "stdout",
     "output_type": "stream",
     "text": [
      "Testing Episode\n"
     ]
    },
    {
     "data": {
      "image/png": "[encoded data removed]",
      "text/plain": [
       "<Figure size 640x480 with 1 Axes>"
      ]
     },
     "metadata": {},
     "output_type": "display_data"
    },
    {
     "name": "stdout",
     "output_type": "stream",
     "text": [
      "Step: 1\n",
      "Step: 2\n",
      "Step: 3\n",
      "Step: 4\n",
      "Step: 5\n",
      "Step: 6\n",
      "Step: 7\n",
      "Step: 8\n",
      "Step: 9\n",
      "Step: 10\n",
      "Step: 11\n",
      "Step: 12\n",
      "Step: 13\n",
      "Step: 14\n",
      "Step: 15\n",
      "Step: 16\n",
      "Step: 17\n",
      "Step: 18\n",
      "Step: 19\n",
      "Step: 20\n",
      "Step: 21\n",
      "Step: 22\n",
      "Step: 23\n",
      "Step: 24\n",
      "Step: 25\n",
      "Step: 26\n",
      "Step: 27\n",
      "Step: 28\n",
      "Step: 29\n",
      "Step: 30\n",
      "Step: 31\n",
      "Step: 32\n",
      "Step: 33\n",
      "Step: 34\n",
      "Step: 35\n",
      "Step: 36\n",
      "Step: 37\n",
      "Step: 38\n",
      "Step: 39\n",
      "Step: 40\n",
      "Step: 41\n",
      "Step: 42\n",
      "Step: 43\n",
      "Step: 44\n",
      "Step: 45\n",
      "Step: 46\n",
      "Step: 47\n",
      "Step: 48\n",
      "Step: 49\n"
     ]
    }
   ],
   "source": [
    "# generate an animation with the agent solving the maze\n",
    "\n",
    "agent.test_episode(optimal_policy)\n"
   ]
  },
  {
   "cell_type": "markdown",
   "metadata": {
    "id": "aJX0sMULa1k-"
   },
   "source": [
    "## Other environemnts\n",
    "\n",
    "Create a new map (min size 15 x 15).\n",
    "\n",
    "Answer:\n",
    "\n",
    "* The policy you have just learned is able to solve this map?\n",
    "* If not, the algorithm you have implemented is able to learn a new policy to solve this map? Demonstrate one or the other"
   ]
  },
  {
   "cell_type": "markdown",
   "metadata": {
    "id": "KKfb29-0BkCV"
   },
   "source": [
    "## Submission\n",
    "\n",
    "You must deliver this Python Interactive Notebook. The file must have the name q_learning_YOUR_NAME.ipynb. Also, you must do a report commenting the problems you encountered, a discussion on how the parameters affect the training and conclusions for the results obtained.\n",
    "\n",
    "Make sure that all cells can be executed."
   ]
  }
 ],
 "metadata": {
  "colab": {
   "provenance": []
  },
  "kernelspec": {
   "display_name": "Python 3",
   "language": "python",
   "name": "python3"
  },
  "language_info": {
   "codemirror_mode": {
    "name": "ipython",
    "version": 3
   },
   "file_extension": ".py",
   "mimetype": "text/x-python",
   "name": "python",
   "nbconvert_exporter": "python",
   "pygments_lexer": "ipython3",
   "version": "3.10.12"
  },
  "orig_nbformat": 4
 },
 "nbformat": 4,
 "nbformat_minor": 0
}
