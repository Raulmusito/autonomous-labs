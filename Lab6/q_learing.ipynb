{
 "cells": [
  {
   "cell_type": "markdown",
   "metadata": {
    "id": "oTBbTsk4vGkY"
   },
   "source": [
    "# **Robot Learning – Reinforcement Learning**"
   ]
  },
  {
   "cell_type": "markdown",
   "metadata": {
    "id": "qCnQbiFVvG0A"
   },
   "source": [
    "The goal of this practical exercise is to implement a Reinforcement Learning algorithm to learn a policy that moves a robot to a goal position. The algorithm is the Q-learning algorithm.\n",
    "\n",
    "## The Problem\n",
    "The problem consists in finding the goal in a finite 2D environment that is closed and contains some obstacles.\n",
    "\n",
    "**States and actions:** The size of the environment is 20x14=280 states. The robot can only do 4 different actions: {←, ↑, →, ↓} (not diagonal movements!). Therefore the size of the Q function will be 280x4=1120 cells.\n",
    "\n",
    "**Dynamics:** The robot can be located in any free cell (not in the obstacle cells!). The function that describes the dynamics is very simple: the robot will move ONE cell per iteration to the direction of the action that we select, unless there is an obstacle or the wall in front of it, in which case it will\n",
    "stay in the same position.\n",
    "\n",
    "**Reinforcement function:** Since the goal is to reach the goal position as fast as possible, the reinforcement function will give -1 in all cells except in the goal cell, where the reward will be +1. The cell that contains the goal is (3,17)."
   ]
  },
  {
   "cell_type": "markdown",
   "metadata": {
    "id": "GIrgWmuPulz-"
   },
   "source": [
    "## Data"
   ]
  },
  {
   "cell_type": "markdown",
   "metadata": {
    "id": "9so0pzxsvUyn"
   },
   "source": [
    "Next you have the map that will be used as the environment for the Q-learning algorithm:"
   ]
  },
  {
   "cell_type": "code",
   "execution_count": 1,
   "metadata": {
    "id": "CggQ83Bzul0E"
   },
   "outputs": [
    {
     "data": {
      "text/plain": [
       "<matplotlib.colorbar.Colorbar at 0x7f0448ddd8b0>"
      ]
     },
     "execution_count": 1,
     "metadata": {},
     "output_type": "execute_result"
    },
    {
     "data": {
      "image/png": "[encoded data removed]",
      "text/plain": [
       "<Figure size 685.714x480 with 2 Axes>"
      ]
     },
     "metadata": {},
     "output_type": "display_data"
    }
   ],
   "source": [
    "from matplotlib import pyplot as plt\n",
    "import numpy as np\n",
    "\n",
    "# Proposed Map\n",
    "map=[\n",
    "[1, 1, 1, 1, 1, 1, 1, 1, 1, 1, 1, 1, 1, 1, 1, 1, 1, 1, 1, 1],\n",
    "[1, 0, 0, 0, 0, 0, 1, 1, 0, 0, 0, 0, 0, 0, 1, 1, 0, 0, 0, 1],\n",
    "[1, 0, 0, 0, 0, 0, 1, 1, 0, 0, 0, 0, 0, 0, 1, 1, 0, 0, 0, 1],\n",
    "[1, 0, 0, 0, 0, 0, 0, 0, 0, 0, 0, 0, 0, 0, 1, 1, 0, 0, 0, 1],\n",
    "[1, 0, 0, 0, 0, 0, 0, 0, 0, 0, 0, 0, 0, 0, 1, 1, 0, 0, 0, 1],\n",
    "[1, 0, 0, 0, 1, 1, 1, 1, 1, 0, 0, 0, 0, 0, 1, 1, 0, 0, 0, 1],\n",
    "[1, 0, 0, 0, 1, 1, 1, 1, 1, 0, 0, 0, 0, 0, 0, 0, 0, 0, 0, 1],\n",
    "[1, 0, 0, 0, 0, 0, 0, 1, 1, 0, 0, 0, 0, 0, 0, 0, 0, 0, 0, 1],\n",
    "[1, 0, 0, 0, 0, 0, 0, 1, 1, 0, 0, 0, 0, 0, 0, 0, 0, 0, 0, 1],\n",
    "[1, 0, 0, 0, 0, 0, 0, 1, 1, 0, 0, 0, 0, 0, 1, 0, 0, 0, 0, 1],\n",
    "[1, 0, 0, 0, 0, 0, 0, 0, 0, 0, 0, 0, 0, 1, 1, 0, 0, 0, 0, 1],\n",
    "[1, 0, 0, 0, 0, 0, 0, 0, 0, 0, 0, 0, 1, 1, 1, 0, 0, 0, 0, 1],\n",
    "[1, 0, 0, 0, 0, 0, 0, 0, 0, 0, 0, 1, 1, 1, 1, 0, 0, 0, 0, 1],\n",
    "[1, 1, 1, 1, 1, 1, 1, 1, 1, 1, 1, 1, 1, 1, 1, 1, 1, 1, 1, 1]]\n",
    "\n",
    "\n",
    "# Convert Map 2D array to Numpy array\n",
    "grid_map = np.array(map)\n",
    "\n",
    "# Show grid map\n",
    "plt.matshow(grid_map, cmap = \"jet\")\n",
    "plt.title('Base Map')\n",
    "plt.colorbar()\n"
   ]
  },
  {
   "cell_type": "markdown",
   "metadata": {
    "id": "luRN-DT83C7j"
   },
   "source": [
    "## Algorithm\n",
    "\n",
    "In order to implement the Q-learning algorithm, you should follow the next pseudocode:\n",
    "\n",
    "```verbatim\n",
    "Initialize Q(s,a) to 0 or random\n",
    "For n episodes:\n",
    "    Initialize s randomly in any free cell\n",
    "    repeat:\n",
    "        Choose action 'a' following epsilon-greedy policy\n",
    "        Take action a, observe r and s'\n",
    "        Q(s,a) <- Q(s,a) + alpha * (r + gamma * max_a Q(s',a)) - Q(s,a)\n",
    "        s <- s'\n",
    "    until the episode terminates\n",
    "endFor\n",
    "```\n",
    "\n",
    "You will have to set several parameters experimentally: n, m, epsilon, alpha and gamma."
   ]
  },
  {
   "cell_type": "markdown",
   "metadata": {
    "id": "O_BIOfiSul0H"
   },
   "source": [
    "## Environment"
   ]
  },
  {
   "cell_type": "markdown",
   "metadata": {
    "id": "45Wso3k5x0ab"
   },
   "source": [
    "In the environment class, you set the possible actions, the rewards obtained depending of those actions and the state of the agent after the action is applied.\n",
    "\n",
    "You have to fill the empty functions following the previous pseudocode."
   ]
  },
  {
   "cell_type": "code",
   "execution_count": 39,
   "metadata": {
    "id": "LXZAnv09ul0I"
   },
   "outputs": [],
   "source": [
    "class MapEnv:\n",
    "    def __init__(self, map, goal, max_steps):\n",
    "        self.map = map\n",
    "        self.current_state = None\n",
    "        self.goal = goal.astype(np.int32)\n",
    "        self.actions = 4\n",
    "        self.steps = 0\n",
    "        self.max_steps = max_steps\n",
    "        if map[goal[0], goal[1]] != 0:\n",
    "            raise ValueError(\"Goal position is an obstacle\")\n",
    "\n",
    "    def reset(self):\n",
    "        # start the agent in a random position within the map and return agent state (cell in which it is)\n",
    "        self.steps = 0\n",
    "        free_cells = np.argwhere(self.map == 0)\n",
    "        if len(free_cells) == 0:\n",
    "            raise ValueError(\"Map contains no free cells to place the agent.\")\n",
    "        r = free_cells[np.random.choice(len(free_cells))]\n",
    "\n",
    "        self.current_state = tuple(r)\n",
    "        return self.current_state\n",
    " \n",
    "\n",
    "    def step(self, action):\n",
    "      # this function applies the action taken and returns the obtained state, a reward and a boolean that says if the episode has ended (max steps or goal reached) or not (any other case)\n",
    "      # action: 0 = up, 1 = down, 2 = left, 3 = right\n",
    "      ended = False\n",
    "      reward = -1\n",
    "      a = [(-1, 0), (1, 0),(0, -1),(0, 1)]\n",
    "\n",
    "      x,y = self.get_state()\n",
    "      new_state = self.current_state\n",
    "      dx,dy = a[action]\n",
    "      if 0 <= x+dx < self.map.shape[0] and 0 <= y+dy < self.map.shape[1] and self.map[x+dx,y+dy]!=1:\n",
    "        \n",
    "        new_state = x+dx,y+dy\n",
    "        \n",
    "        if list(new_state) == all(self.goal): \n",
    "          reward = 1\n",
    "          ended = True\n",
    "        else: reward =-1\n",
    "\n",
    "      if self.steps == self.max_steps:\n",
    "        ended =True \n",
    "          \n",
    "      self.current_state = new_state\n",
    "      self.steps+=1\n",
    "\n",
    "      return new_state,reward,ended\n",
    "\n",
    "    def get_state(self):\n",
    "      # returns current state\n",
    "      return self.current_state\n",
    "\n",
    "    def render(self, i=0):\n",
    "        plt.matshow(self.map, cmap = \"jet\")\n",
    "        plt.title('Map')\n",
    "        plt.colorbar()\n",
    "        plt.scatter(self.current_state[1], self.current_state[0], c = 'r')\n",
    "        plt.scatter(self.goal[1], self.goal[0], c = 'g')\n",
    "        plt.savefig(\"q_learning_{0:04}.png\".format(i), dpi = 300)\n",
    "        plt.show()\n",
    "\n",
    "\n",
    "\n",
    "    def render_live(self, i=0, episodic_reward=0, avg_reward=0, save_frames=False, pause_time=0.1):\n",
    "        if not hasattr(self, 'fig'):   \n",
    "            self.fig, self.ax = plt.subplots()  # Create figure and axis only once\n",
    "            self.im = self.ax.imshow(self.map, cmap=\"jet\")  # Display the map\n",
    "            self.ax.scatter(self.current_state[1], self.current_state[0], c='r')  # Agent\n",
    "            self.ax.scatter(self.goal[1], self.goal[0], c='g')  # Goal\n",
    "            plt.ion()  # Enable interactive mode here\n",
    "        else:\n",
    "            self.ax.clear()  # Clear the axis to refresh the plot\n",
    "            self.ax.imshow(self.map, cmap=\"jet\")  # Redraw the map\n",
    "            self.ax.scatter(self.current_state[1], self.current_state[0], c='r')  # Update agent position\n",
    "            self.ax.scatter(self.goal[1], self.goal[0], c='g')  # Update goal position\n",
    "\n",
    "        if episodic_reward is not None:\n",
    "            self.ax.text(0.05, 0.98, f\"Episodic Reward: {int(episodic_reward)}\", \n",
    "                        transform=self.ax.transAxes, fontsize=10, color=\"white\", \n",
    "                        verticalalignment=\"top\", horizontalalignment=\"left\", fontweight='bold')\n",
    "            self.ax.text(0.65, 0.98, f\"Average Reward: {int(avg_reward)}\", \n",
    "                        transform=self.ax.transAxes, fontsize=10, color=\"white\", \n",
    "                        verticalalignment=\"top\", horizontalalignment=\"left\", fontweight='bold')\n",
    "\n",
    "        if save_frames:\n",
    "            self.fig.savefig(f\"q_learning_{i:04}.png\", dpi=300)  # Save frames\n",
    "        \n",
    "        plt.draw()  # Redraw the figure\n",
    "        plt.pause(pause_time)  # Pause to update the plot\n"
   ]
  },
  {
   "cell_type": "markdown",
   "metadata": {
    "id": "OXg1_4u6ul0K"
   },
   "source": [
    "## QLearning algorithm"
   ]
  },
  {
   "cell_type": "markdown",
   "metadata": {
    "id": "k7uF89DbFVVq"
   },
   "source": [
    "QLearning class creates and trains the policy at every episode using the information provided by the environment. After the training is over, the optimal policy and the value function are obtained.\n",
    "\n",
    "As in the MapEnv class, you have to fill the empty functions following the previous pseudocode."
   ]
  },
  {
   "cell_type": "code",
   "execution_count": null,
   "metadata": {
    "id": "3qnWaAKPul0L"
   },
   "outputs": [],
   "source": [
    "\n",
    "import tqdm\n",
    "\n",
    "class QLearning:\n",
    "    def __init__(self, env, alpha, gamma, epsilon, n_episodes):\n",
    "        self.avg_reward = 0\n",
    "        self.env = env\n",
    "        self.alpha = alpha\n",
    "        self.gamma = gamma\n",
    "        self.epsilon = epsilon\n",
    "        self.n_episodes = n_episodes\n",
    "        self.Q = np.random.rand(env.map.shape[0], env.map.shape[1], env.actions)\n",
    "\n",
    "    def epsilon_greedy_policy(self, s, epsilon):\n",
    "        # Epsilon greedy policy (choose a random action with probability epsilon)\n",
    "        a = None\n",
    "        r = np.random.rand()\n",
    "        if r<=epsilon: a = np.random.choice(range(self.env.actions))\n",
    "        else: a = np.argmax(self.Q[s]) #a = np.max(self.Q)\n",
    "        return a\n",
    "    \n",
    "    def episode(self, alpha, epsilon):\n",
    "        # Episode execution. Generate an action with epsilon_greedy_policy, call step, appy learning function\n",
    "        # This function should return the total reward obtained in this episode\n",
    "        # ...\n",
    "        a = None\n",
    "        episodic_reward = 0\n",
    "        self.env.current_state= self.env.reset()\n",
    "        prev_state = self.env.get_state()\n",
    "        for step in range(self.env.max_steps):\n",
    "            a = self.epsilon_greedy_policy(prev_state,epsilon)\n",
    "            new_state,reward,ended = self.env.step(a)\n",
    "            self.Q[prev_state[0],prev_state[1],a] =  self.Q[prev_state[0],prev_state[1],a] + \\\n",
    "                alpha*(reward+self.gamma*np.max(self.Q[new_state[0],new_state[1],:]))-self.Q[prev_state[0],prev_state[1],a]\n",
    "            # print(\"prev_state\",prev_state,\"action:\",a,\" next_state:\",new_state)\n",
    "            prev_state = new_state\n",
    "            episodic_reward+=reward\n",
    "            # print(\"epi_reward:\",episodic_reward)\n",
    "            self.env.render_live(episodic_reward=episodic_reward,avg_reward=self.avg_reward)\n",
    "            if ended:\n",
    "                break\n",
    "        \n",
    "        return episodic_reward\n",
    "\n",
    "    def train(self, n_episodes, check_every_n=100):\n",
    "        \"\"\"Execute n_episodes and every `check_every_n` episodes print the average reward and store it.\n",
    "           As the initial position is random, this number will not be super stable...\"\"\"\n",
    "        reward = []\n",
    "        for eps in tqdm.tqdm(range(n_episodes)):\n",
    "            r = self.episode(self.alpha,self.epsilon)\n",
    "            if eps%check_every_n==0:\n",
    "                reward.append(r)\n",
    "                self.avg_reward=sum(reward)/len(reward)\n",
    "                # print(\"Average Reward:\",sum(reward)/len(reward))\n",
    "        print(\"Average Reward:\",sum(reward)/len(reward))\n",
    "\n",
    "        def test_episode(policy):\n",
    "                # Episode execution. Generate an action with epsilon_greedy_policy, call step, appy learning function\n",
    "                # This function should return the total reward obtained in this episode\n",
    "                # ...\n",
    "                a = None\n",
    "                episodic_reward = 0\n",
    "                self.env.current_state= self.env.reset()\n",
    "                prev_state = self.env.get_state()\n",
    "                for step in range(self.env.max_steps): \n",
    "                    a = policy()\n",
    "                    new_state,reward,ended = self.env.step(a)\n",
    "                    prev_state = new_state\n",
    "                    episodic_reward+=reward\n",
    "                    # print(\"epi_reward:\",episodic_reward)\n",
    "                    self.env.render_live(episodic_reward=episodic_reward,avg_reward=self.avg_reward)\n",
    "                    if ended:\n",
    "                        break\n",
    "\n",
    "    def get_optimal_policy(self):\n",
    "        \"\"\"Once training is done, retrieve the optimal policy from Q(s,a).\"\"\"\n",
    "        policy = {}\n",
    "        states = np.argwhere(self.env.map == 0)\n",
    "        for s in states:\n",
    "            opt_a = np.argmax(self.Q[s[0],s[1],:]) #in a particlar state check for best action\n",
    "            policy[s[0],s[1]]=opt_a\n",
    "        return policy\n",
    "\n",
    "    def value_function(self):\n",
    "        \"\"\"Once training is done, retrieve the optimal value function from from Q(s,a)\"\"\"\n",
    "        v = np.max(self.Q, axis = 2)\n",
    "        v[self.env.map == 1] = -np.inf\n",
    "        return v\n"
   ]
  },
  {
   "cell_type": "markdown",
   "metadata": {
    "id": "MHXBD26aul0N"
   },
   "source": [
    "## Training"
   ]
  },
  {
   "cell_type": "markdown",
   "metadata": {
    "id": "7U2V6wf_-ZVP"
   },
   "source": [
    "For the training you need to choose some parameters experimentally. Test different values to see how the training results change.\n",
    "\n",
    "Parameters:\n",
    "\n",
    "* **alpha**: learning rate of the algorithm\n",
    "* **gamma**: discount factor of the algorithm\n",
    "* **epsilon**: random action probability\n",
    "* **n_episodes**: number of episode repetitions\n",
    "* **max_steps**: maximum number of iterations per episode (in Environment class)"
   ]
  },
  {
   "cell_type": "code",
   "execution_count": 42,
   "metadata": {
    "id": "eLtF2eDUul0O"
   },
   "outputs": [
    {
     "name": "stderr",
     "output_type": "stream",
     "text": [
      "  0%|          | 0/100 [00:00<?, ?it/s]"
     ]
    },
    {
     "data": {
      "image/png": "[encoded data removed]",
      "text/plain": [
       "<Figure size 640x480 with 1 Axes>"
      ]
     },
     "metadata": {},
     "output_type": "display_data"
    },
    {
     "data": {
      "text/plain": [
       "<Figure size 640x480 with 0 Axes>"
      ]
     },
     "metadata": {},
     "output_type": "display_data"
    },
    {
     "data": {
      "text/plain": [
       "<Figure size 640x480 with 0 Axes>"
      ]
     },
     "metadata": {},
     "output_type": "display_data"
    },
    {
     "data": {
      "text/plain": [
       "<Figure size 640x480 with 0 Axes>"
      ]
     },
     "metadata": {},
     "output_type": "display_data"
    },
    {
     "data": {
      "text/plain": [
       "<Figure size 640x480 with 0 Axes>"
      ]
     },
     "metadata": {},
     "output_type": "display_data"
    },
    {
     "data": {
      "text/plain": [
       "<Figure size 640x480 with 0 Axes>"
      ]
     },
     "metadata": {},
     "output_type": "display_data"
    },
    {
     "data": {
      "text/plain": [
       "<Figure size 640x480 with 0 Axes>"
      ]
     },
     "metadata": {},
     "output_type": "display_data"
    },
    {
     "data": {
      "text/plain": [
       "<Figure size 640x480 with 0 Axes>"
      ]
     },
     "metadata": {},
     "output_type": "display_data"
    },
    {
     "data": {
      "text/plain": [
       "<Figure size 640x480 with 0 Axes>"
      ]
     },
     "metadata": {},
     "output_type": "display_data"
    },
    {
     "data": {
      "text/plain": [
       "<Figure size 640x480 with 0 Axes>"
      ]
     },
     "metadata": {},
     "output_type": "display_data"
    },
    {
     "data": {
      "text/plain": [
       "<Figure size 640x480 with 0 Axes>"
      ]
     },
     "metadata": {},
     "output_type": "display_data"
    },
    {
     "data": {
      "text/plain": [
       "<Figure size 640x480 with 0 Axes>"
      ]
     },
     "metadata": {},
     "output_type": "display_data"
    },
    {
     "data": {
      "text/plain": [
       "<Figure size 640x480 with 0 Axes>"
      ]
     },
     "metadata": {},
     "output_type": "display_data"
    },
    {
     "data": {
      "text/plain": [
       "<Figure size 640x480 with 0 Axes>"
      ]
     },
     "metadata": {},
     "output_type": "display_data"
    },
    {
     "data": {
      "text/plain": [
       "<Figure size 640x480 with 0 Axes>"
      ]
     },
     "metadata": {},
     "output_type": "display_data"
    },
    {
     "data": {
      "text/plain": [
       "<Figure size 640x480 with 0 Axes>"
      ]
     },
     "metadata": {},
     "output_type": "display_data"
    },
    {
     "data": {
      "text/plain": [
       "<Figure size 640x480 with 0 Axes>"
      ]
     },
     "metadata": {},
     "output_type": "display_data"
    },
    {
     "data": {
      "text/plain": [
       "<Figure size 640x480 with 0 Axes>"
      ]
     },
     "metadata": {},
     "output_type": "display_data"
    },
    {
     "data": {
      "text/plain": [
       "<Figure size 640x480 with 0 Axes>"
      ]
     },
     "metadata": {},
     "output_type": "display_data"
    },
    {
     "data": {
      "text/plain": [
       "<Figure size 640x480 with 0 Axes>"
      ]
     },
     "metadata": {},
     "output_type": "display_data"
    },
    {
     "data": {
      "text/plain": [
       "<Figure size 640x480 with 0 Axes>"
      ]
     },
     "metadata": {},
     "output_type": "display_data"
    },
    {
     "data": {
      "text/plain": [
       "<Figure size 640x480 with 0 Axes>"
      ]
     },
     "metadata": {},
     "output_type": "display_data"
    },
    {
     "data": {
      "text/plain": [
       "<Figure size 640x480 with 0 Axes>"
      ]
     },
     "metadata": {},
     "output_type": "display_data"
    },
    {
     "data": {
      "text/plain": [
       "<Figure size 640x480 with 0 Axes>"
      ]
     },
     "metadata": {},
     "output_type": "display_data"
    },
    {
     "data": {
      "text/plain": [
       "<Figure size 640x480 with 0 Axes>"
      ]
     },
     "metadata": {},
     "output_type": "display_data"
    },
    {
     "data": {
      "text/plain": [
       "<Figure size 640x480 with 0 Axes>"
      ]
     },
     "metadata": {},
     "output_type": "display_data"
    },
    {
     "data": {
      "text/plain": [
       "<Figure size 640x480 with 0 Axes>"
      ]
     },
     "metadata": {},
     "output_type": "display_data"
    },
    {
     "data": {
      "text/plain": [
       "<Figure size 640x480 with 0 Axes>"
      ]
     },
     "metadata": {},
     "output_type": "display_data"
    },
    {
     "data": {
      "text/plain": [
       "<Figure size 640x480 with 0 Axes>"
      ]
     },
     "metadata": {},
     "output_type": "display_data"
    },
    {
     "data": {
      "text/plain": [
       "<Figure size 640x480 with 0 Axes>"
      ]
     },
     "metadata": {},
     "output_type": "display_data"
    },
    {
     "name": "stderr",
     "output_type": "stream",
     "text": [
      "  1%|          | 1/100 [00:03<06:30,  3.94s/it]"
     ]
    },
    {
     "data": {
      "text/plain": [
       "<Figure size 640x480 with 0 Axes>"
      ]
     },
     "metadata": {},
     "output_type": "display_data"
    },
    {
     "data": {
      "text/plain": [
       "<Figure size 640x480 with 0 Axes>"
      ]
     },
     "metadata": {},
     "output_type": "display_data"
    },
    {
     "data": {
      "text/plain": [
       "<Figure size 640x480 with 0 Axes>"
      ]
     },
     "metadata": {},
     "output_type": "display_data"
    },
    {
     "data": {
      "text/plain": [
       "<Figure size 640x480 with 0 Axes>"
      ]
     },
     "metadata": {},
     "output_type": "display_data"
    },
    {
     "data": {
      "text/plain": [
       "<Figure size 640x480 with 0 Axes>"
      ]
     },
     "metadata": {},
     "output_type": "display_data"
    },
    {
     "data": {
      "text/plain": [
       "<Figure size 640x480 with 0 Axes>"
      ]
     },
     "metadata": {},
     "output_type": "display_data"
    },
    {
     "data": {
      "text/plain": [
       "<Figure size 640x480 with 0 Axes>"
      ]
     },
     "metadata": {},
     "output_type": "display_data"
    },
    {
     "data": {
      "text/plain": [
       "<Figure size 640x480 with 0 Axes>"
      ]
     },
     "metadata": {},
     "output_type": "display_data"
    },
    {
     "data": {
      "text/plain": [
       "<Figure size 640x480 with 0 Axes>"
      ]
     },
     "metadata": {},
     "output_type": "display_data"
    },
    {
     "data": {
      "text/plain": [
       "<Figure size 640x480 with 0 Axes>"
      ]
     },
     "metadata": {},
     "output_type": "display_data"
    },
    {
     "data": {
      "text/plain": [
       "<Figure size 640x480 with 0 Axes>"
      ]
     },
     "metadata": {},
     "output_type": "display_data"
    },
    {
     "data": {
      "text/plain": [
       "<Figure size 640x480 with 0 Axes>"
      ]
     },
     "metadata": {},
     "output_type": "display_data"
    },
    {
     "data": {
      "text/plain": [
       "<Figure size 640x480 with 0 Axes>"
      ]
     },
     "metadata": {},
     "output_type": "display_data"
    },
    {
     "data": {
      "text/plain": [
       "<Figure size 640x480 with 0 Axes>"
      ]
     },
     "metadata": {},
     "output_type": "display_data"
    },
    {
     "data": {
      "text/plain": [
       "<Figure size 640x480 with 0 Axes>"
      ]
     },
     "metadata": {},
     "output_type": "display_data"
    },
    {
     "data": {
      "text/plain": [
       "<Figure size 640x480 with 0 Axes>"
      ]
     },
     "metadata": {},
     "output_type": "display_data"
    },
    {
     "data": {
      "text/plain": [
       "<Figure size 640x480 with 0 Axes>"
      ]
     },
     "metadata": {},
     "output_type": "display_data"
    },
    {
     "data": {
      "text/plain": [
       "<Figure size 640x480 with 0 Axes>"
      ]
     },
     "metadata": {},
     "output_type": "display_data"
    },
    {
     "data": {
      "text/plain": [
       "<Figure size 640x480 with 0 Axes>"
      ]
     },
     "metadata": {},
     "output_type": "display_data"
    },
    {
     "data": {
      "text/plain": [
       "<Figure size 640x480 with 0 Axes>"
      ]
     },
     "metadata": {},
     "output_type": "display_data"
    },
    {
     "data": {
      "text/plain": [
       "<Figure size 640x480 with 0 Axes>"
      ]
     },
     "metadata": {},
     "output_type": "display_data"
    },
    {
     "data": {
      "text/plain": [
       "<Figure size 640x480 with 0 Axes>"
      ]
     },
     "metadata": {},
     "output_type": "display_data"
    },
    {
     "data": {
      "text/plain": [
       "<Figure size 640x480 with 0 Axes>"
      ]
     },
     "metadata": {},
     "output_type": "display_data"
    },
    {
     "data": {
      "text/plain": [
       "<Figure size 640x480 with 0 Axes>"
      ]
     },
     "metadata": {},
     "output_type": "display_data"
    },
    {
     "data": {
      "text/plain": [
       "<Figure size 640x480 with 0 Axes>"
      ]
     },
     "metadata": {},
     "output_type": "display_data"
    },
    {
     "data": {
      "text/plain": [
       "<Figure size 640x480 with 0 Axes>"
      ]
     },
     "metadata": {},
     "output_type": "display_data"
    },
    {
     "data": {
      "text/plain": [
       "<Figure size 640x480 with 0 Axes>"
      ]
     },
     "metadata": {},
     "output_type": "display_data"
    },
    {
     "name": "stderr",
     "output_type": "stream",
     "text": [
      "  1%|          | 1/100 [00:07<12:05,  7.33s/it]\n"
     ]
    },
    {
     "ename": "KeyboardInterrupt",
     "evalue": "",
     "output_type": "error",
     "traceback": [
      "\u001b[0;31m---------------------------------------------------------------------------\u001b[0m",
      "\u001b[0;31mKeyboardInterrupt\u001b[0m                         Traceback (most recent call last)",
      "Cell \u001b[0;32mIn[42], line 8\u001b[0m\n\u001b[1;32m      6\u001b[0m env \u001b[38;5;241m=\u001b[39m MapEnv(\u001b[38;5;28mmap\u001b[39m\u001b[38;5;241m=\u001b[39mgrid_map, goal\u001b[38;5;241m=\u001b[39mnp\u001b[38;5;241m.\u001b[39marray([\u001b[38;5;241m4\u001b[39m, \u001b[38;5;241m4\u001b[39m]), max_steps\u001b[38;5;241m=\u001b[39meps_steps)\n\u001b[1;32m      7\u001b[0m agent \u001b[38;5;241m=\u001b[39m QLearning(env, alpha\u001b[38;5;241m=\u001b[39m\u001b[38;5;241m0.01\u001b[39m, gamma\u001b[38;5;241m=\u001b[39m\u001b[38;5;241m0.95\u001b[39m, epsilon\u001b[38;5;241m=\u001b[39m\u001b[38;5;241m0.5\u001b[39m, n_episodes\u001b[38;5;241m=\u001b[39meps,)\n\u001b[0;32m----> 8\u001b[0m \u001b[43magent\u001b[49m\u001b[38;5;241;43m.\u001b[39;49m\u001b[43mtrain\u001b[49m\u001b[43m(\u001b[49m\u001b[43mn_episodes\u001b[49m\u001b[38;5;241;43m=\u001b[39;49m\u001b[43meps\u001b[49m\u001b[43m,\u001b[49m\u001b[43m \u001b[49m\u001b[43mcheck_every_n\u001b[49m\u001b[38;5;241;43m=\u001b[39;49m\u001b[43meps\u001b[49m\u001b[38;5;241;43m/\u001b[39;49m\u001b[38;5;241;43m4\u001b[39;49m\u001b[43m)\u001b[49m\n\u001b[1;32m      9\u001b[0m optimal_policy \u001b[38;5;241m=\u001b[39m agent\u001b[38;5;241m.\u001b[39mget_optimal_policy()\n\u001b[1;32m     10\u001b[0m optimal_value \u001b[38;5;241m=\u001b[39m agent\u001b[38;5;241m.\u001b[39mvalue_function()\n",
      "Cell \u001b[0;32mIn[40], line 49\u001b[0m, in \u001b[0;36mQLearning.train\u001b[0;34m(self, n_episodes, check_every_n)\u001b[0m\n\u001b[1;32m     47\u001b[0m reward \u001b[38;5;241m=\u001b[39m []\n\u001b[1;32m     48\u001b[0m \u001b[38;5;28;01mfor\u001b[39;00m eps \u001b[38;5;129;01min\u001b[39;00m tqdm\u001b[38;5;241m.\u001b[39mtqdm(\u001b[38;5;28mrange\u001b[39m(n_episodes)):\n\u001b[0;32m---> 49\u001b[0m     r \u001b[38;5;241m=\u001b[39m \u001b[38;5;28;43mself\u001b[39;49m\u001b[38;5;241;43m.\u001b[39;49m\u001b[43mepisode\u001b[49m\u001b[43m(\u001b[49m\u001b[38;5;28;43mself\u001b[39;49m\u001b[38;5;241;43m.\u001b[39;49m\u001b[43malpha\u001b[49m\u001b[43m,\u001b[49m\u001b[38;5;28;43mself\u001b[39;49m\u001b[38;5;241;43m.\u001b[39;49m\u001b[43mepsilon\u001b[49m\u001b[43m)\u001b[49m\n\u001b[1;32m     50\u001b[0m     \u001b[38;5;28;01mif\u001b[39;00m eps\u001b[38;5;241m%\u001b[39mcheck_every_n\u001b[38;5;241m==\u001b[39m\u001b[38;5;241m0\u001b[39m:\n\u001b[1;32m     51\u001b[0m         reward\u001b[38;5;241m.\u001b[39mappend(r)\n",
      "Cell \u001b[0;32mIn[40], line 38\u001b[0m, in \u001b[0;36mQLearning.episode\u001b[0;34m(self, alpha, epsilon)\u001b[0m\n\u001b[1;32m     36\u001b[0m episodic_reward\u001b[38;5;241m+\u001b[39m\u001b[38;5;241m=\u001b[39mreward\n\u001b[1;32m     37\u001b[0m \u001b[38;5;66;03m# print(\"epi_reward:\",episodic_reward)\u001b[39;00m\n\u001b[0;32m---> 38\u001b[0m \u001b[38;5;28;43mself\u001b[39;49m\u001b[38;5;241;43m.\u001b[39;49m\u001b[43menv\u001b[49m\u001b[38;5;241;43m.\u001b[39;49m\u001b[43mrender_live\u001b[49m\u001b[43m(\u001b[49m\u001b[43mepisodic_reward\u001b[49m\u001b[38;5;241;43m=\u001b[39;49m\u001b[43mepisodic_reward\u001b[49m\u001b[43m,\u001b[49m\u001b[43mavg_reward\u001b[49m\u001b[38;5;241;43m=\u001b[39;49m\u001b[38;5;28;43mself\u001b[39;49m\u001b[38;5;241;43m.\u001b[39;49m\u001b[43mavg_reward\u001b[49m\u001b[43m)\u001b[49m\n\u001b[1;32m     39\u001b[0m \u001b[38;5;28;01mif\u001b[39;00m ended:\n\u001b[1;32m     40\u001b[0m     \u001b[38;5;28;01mbreak\u001b[39;00m\n",
      "Cell \u001b[0;32mIn[39], line 91\u001b[0m, in \u001b[0;36mMapEnv.render_live\u001b[0;34m(self, i, episodic_reward, avg_reward, save_frames, pause_time)\u001b[0m\n\u001b[1;32m     88\u001b[0m     \u001b[38;5;28mself\u001b[39m\u001b[38;5;241m.\u001b[39mfig\u001b[38;5;241m.\u001b[39msavefig(\u001b[38;5;124mf\u001b[39m\u001b[38;5;124m\"\u001b[39m\u001b[38;5;124mq_learning_\u001b[39m\u001b[38;5;132;01m{\u001b[39;00mi\u001b[38;5;132;01m:\u001b[39;00m\u001b[38;5;124m04\u001b[39m\u001b[38;5;132;01m}\u001b[39;00m\u001b[38;5;124m.png\u001b[39m\u001b[38;5;124m\"\u001b[39m, dpi\u001b[38;5;241m=\u001b[39m\u001b[38;5;241m300\u001b[39m)  \u001b[38;5;66;03m# Save frames\u001b[39;00m\n\u001b[1;32m     90\u001b[0m plt\u001b[38;5;241m.\u001b[39mdraw()  \u001b[38;5;66;03m# Redraw the figure\u001b[39;00m\n\u001b[0;32m---> 91\u001b[0m \u001b[43mplt\u001b[49m\u001b[38;5;241;43m.\u001b[39;49m\u001b[43mpause\u001b[49m\u001b[43m(\u001b[49m\u001b[43mpause_time\u001b[49m\u001b[43m)\u001b[49m\n",
      "File \u001b[0;32m~/.local/lib/python3.8/site-packages/matplotlib/pyplot.py:582\u001b[0m, in \u001b[0;36mpause\u001b[0;34m(interval)\u001b[0m\n\u001b[1;32m    580\u001b[0m         canvas\u001b[38;5;241m.\u001b[39mdraw_idle()\n\u001b[1;32m    581\u001b[0m     show(block\u001b[38;5;241m=\u001b[39m\u001b[38;5;28;01mFalse\u001b[39;00m)\n\u001b[0;32m--> 582\u001b[0m     \u001b[43mcanvas\u001b[49m\u001b[38;5;241;43m.\u001b[39;49m\u001b[43mstart_event_loop\u001b[49m\u001b[43m(\u001b[49m\u001b[43minterval\u001b[49m\u001b[43m)\u001b[49m\n\u001b[1;32m    583\u001b[0m \u001b[38;5;28;01melse\u001b[39;00m:\n\u001b[1;32m    584\u001b[0m     time\u001b[38;5;241m.\u001b[39msleep(interval)\n",
      "File \u001b[0;32m~/.local/lib/python3.8/site-packages/matplotlib/backend_bases.py:2553\u001b[0m, in \u001b[0;36mFigureCanvasBase.start_event_loop\u001b[0;34m(self, timeout)\u001b[0m\n\u001b[1;32m   2551\u001b[0m \u001b[38;5;28;01mwhile\u001b[39;00m \u001b[38;5;28mself\u001b[39m\u001b[38;5;241m.\u001b[39m_looping \u001b[38;5;129;01mand\u001b[39;00m counter \u001b[38;5;241m*\u001b[39m timestep \u001b[38;5;241m<\u001b[39m timeout:\n\u001b[1;32m   2552\u001b[0m     \u001b[38;5;28mself\u001b[39m\u001b[38;5;241m.\u001b[39mflush_events()\n\u001b[0;32m-> 2553\u001b[0m     \u001b[43mtime\u001b[49m\u001b[38;5;241;43m.\u001b[39;49m\u001b[43msleep\u001b[49m\u001b[43m(\u001b[49m\u001b[43mtimestep\u001b[49m\u001b[43m)\u001b[49m\n\u001b[1;32m   2554\u001b[0m     counter \u001b[38;5;241m+\u001b[39m\u001b[38;5;241m=\u001b[39m \u001b[38;5;241m1\u001b[39m\n",
      "\u001b[0;31mKeyboardInterrupt\u001b[0m: "
     ]
    }
   ],
   "source": [
    "# Create an environment and a QLearning agent to learn it. Plot the averaged rewards stored.\n",
    "# print(np.shape(grid_map))\n",
    "# Create an environment and a QLearning agent to learn it. Plot the averaged rewards stored.\n",
    "eps=100\n",
    "eps_steps =30\n",
    "env = MapEnv(map=grid_map, goal=np.array([4, 4]), max_steps=eps_steps)\n",
    "agent = QLearning(env, alpha=0.01, gamma=0.95, epsilon=0.5, n_episodes=eps,)\n",
    "agent.train(n_episodes=eps, check_every_n=eps/4)\n",
    "optimal_policy = agent.get_optimal_policy()\n",
    "optimal_value = agent.value_function()\n"
   ]
  },
  {
   "cell_type": "markdown",
   "metadata": {
    "id": "hJWZblvUul0O"
   },
   "source": [
    "## Plot value function and optimal policy"
   ]
  },
  {
   "cell_type": "code",
   "execution_count": null,
   "metadata": {
    "id": "w_z8566Oul0P"
   },
   "outputs": [],
   "source": [
    "# Plot the value function (see included figure)\n",
    "plt.subplot(1, 2, 1)\n",
    "plt.imshow(value_function, cmap=\"viridis\", interpolation=\"nearest\")\n",
    "plt.colorbar(label=\"Value (V(s))\")\n",
    "plt.title(\"Value Function\")\n",
    "plt.xlabel(\"State (Column)\")\n",
    "plt.ylabel(\"State (Row)\")\n",
    "\n",
    "# Plot policy (see included figure)\n",
    "plt.subplot(1, 2, 2)\n",
    "plt.imshow(optimal_policy, cmap=\"Blues\", interpolation=\"nearest\")\n",
    "plt.colorbar(label=\"Action\")\n",
    "plt.title(\"Optimal Policy\")\n",
    "plt.xlabel(\"State (Column)\")\n",
    "plt.ylabel(\"State (Row)\")\n",
    "\n",
    "plt.tight_layout()\n",
    "plt.show()"
   ]
  },
  {
   "cell_type": "markdown",
   "metadata": {
    "id": "G0HhgeIAul0Q"
   },
   "source": [
    "## Test current Policy"
   ]
  },
  {
   "cell_type": "markdown",
   "metadata": {
    "id": "To2nTQUn_HGM"
   },
   "source": [
    "Once the training is over, we can see what the robot has learnt to do. You can test it with other goal positions and other maps, to see of the policy is able to adapt to other situations."
   ]
  },
  {
   "cell_type": "code",
   "execution_count": null,
   "metadata": {
    "id": "RTV2Y3nda1k-"
   },
   "outputs": [],
   "source": [
    "# generate an animation with the agent solving the maze\n",
    "\n",
    "\n",
    "\n",
    "test_episode()\n"
   ]
  },
  {
   "cell_type": "markdown",
   "metadata": {
    "id": "aJX0sMULa1k-"
   },
   "source": [
    "## Other environemnts\n",
    "\n",
    "Create a new map (min size 15 x 15).\n",
    "\n",
    "Answer:\n",
    "\n",
    "* The policy you have just learned is able to solve this map?\n",
    "* If not, the algorithm you have implemented is able to learn a new policy to solve this map? Demonstrate one or the other"
   ]
  },
  {
   "cell_type": "markdown",
   "metadata": {
    "id": "KKfb29-0BkCV"
   },
   "source": [
    "## Submission\n",
    "\n",
    "You must deliver this Python Interactive Notebook. The file must have the name q_learning_YOUR_NAME.ipynb. Also, you must do a report commenting the problems you encountered, a discussion on how the parameters affect the training and conclusions for the results obtained.\n",
    "\n",
    "Make sure that all cells can be executed."
   ]
  }
 ],
 "metadata": {
  "colab": {
   "provenance": []
  },
  "kernelspec": {
   "display_name": "Python 3",
   "language": "python",
   "name": "python3"
  },
  "language_info": {
   "codemirror_mode": {
    "name": "ipython",
    "version": 3
   },
   "file_extension": ".py",
   "mimetype": "text/x-python",
   "name": "python",
   "nbconvert_exporter": "python",
   "pygments_lexer": "ipython3",
   "version": "3.8.10"
  },
  "orig_nbformat": 4
 },
 "nbformat": 4,
 "nbformat_minor": 0
}
