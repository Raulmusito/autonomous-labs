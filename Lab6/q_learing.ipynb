{
 "cells": [
  {
   "cell_type": "markdown",
   "metadata": {
    "id": "oTBbTsk4vGkY"
   },
   "source": [
    "# **Robot Learning – Reinforcement Learning**"
   ]
  },
  {
   "cell_type": "markdown",
   "metadata": {
    "id": "qCnQbiFVvG0A"
   },
   "source": [
    "The goal of this practical exercise is to implement a Reinforcement Learning algorithm to learn a policy that moves a robot to a goal position. The algorithm is the Q-learning algorithm.\n",
    "\n",
    "## The Problem\n",
    "The problem consists in finding the goal in a finite 2D environment that is closed and contains some obstacles.\n",
    "\n",
    "**States and actions:** The size of the environment is 20x14=280 states. The robot can only do 4 different actions: {←, ↑, →, ↓} (not diagonal movements!). Therefore the size of the Q function will be 280x4=1120 cells.\n",
    "\n",
    "**Dynamics:** The robot can be located in any free cell (not in the obstacle cells!). The function that describes the dynamics is very simple: the robot will move ONE cell per iteration to the direction of the action that we select, unless there is an obstacle or the wall in front of it, in which case it will\n",
    "stay in the same position.\n",
    "\n",
    "**Reinforcement function:** Since the goal is to reach the goal position as fast as possible, the reinforcement function will give -1 in all cells except in the goal cell, where the reward will be +1. The cell that contains the goal is (3,17)."
   ]
  },
  {
   "cell_type": "markdown",
   "metadata": {
    "id": "GIrgWmuPulz-"
   },
   "source": [
    "## Data"
   ]
  },
  {
   "cell_type": "markdown",
   "metadata": {
    "id": "9so0pzxsvUyn"
   },
   "source": [
    "Next you have the map that will be used as the environment for the Q-learning algorithm:"
   ]
  },
  {
   "cell_type": "code",
   "execution_count": 1,
   "metadata": {
    "id": "CggQ83Bzul0E"
   },
   "outputs": [
    {
     "data": {
      "image/png": "[encoded data removed]",
      "text/plain": [
       "<Figure size 685.714x480 with 2 Axes>"
      ]
     },
     "metadata": {},
     "output_type": "display_data"
    }
   ],
   "source": [
    "from matplotlib import pyplot as plt\n",
    "import numpy as np\n",
    "\n",
    "# Proposed Map\n",
    "map=[\n",
    "[1, 1, 1, 1, 1, 1, 1, 1, 1, 1, 1, 1, 1, 1, 1, 1, 1, 1, 1, 1],\n",
    "[1, 0, 0, 0, 0, 0, 1, 1, 0, 0, 0, 0, 0, 0, 1, 1, 0, 0, 0, 1],\n",
    "[1, 0, 0, 0, 0, 0, 1, 1, 0, 0, 0, 0, 0, 0, 1, 1, 0, 0, 0, 1],\n",
    "[1, 0, 0, 0, 0, 0, 0, 0, 0, 0, 0, 0, 0, 0, 1, 1, 0, 0, 0, 1],\n",
    "[1, 0, 0, 0, 0, 0, 0, 0, 0, 0, 0, 0, 0, 0, 1, 1, 0, 0, 0, 1],\n",
    "[1, 0, 0, 0, 1, 1, 1, 1, 1, 0, 0, 0, 0, 0, 1, 1, 0, 0, 0, 1],\n",
    "[1, 0, 0, 0, 1, 1, 1, 1, 1, 0, 0, 0, 0, 0, 0, 0, 0, 0, 0, 1],\n",
    "[1, 0, 0, 0, 0, 0, 0, 1, 1, 0, 0, 0, 0, 0, 0, 0, 0, 0, 0, 1],\n",
    "[1, 0, 0, 0, 0, 0, 0, 1, 1, 0, 0, 0, 0, 0, 0, 0, 0, 0, 0, 1],\n",
    "[1, 0, 0, 0, 0, 0, 0, 1, 1, 0, 0, 0, 0, 0, 1, 0, 0, 0, 0, 1],\n",
    "[1, 0, 0, 0, 0, 0, 0, 0, 0, 0, 0, 0, 0, 1, 1, 0, 0, 0, 0, 1],\n",
    "[1, 0, 0, 0, 0, 0, 0, 0, 0, 0, 0, 0, 1, 1, 1, 0, 0, 0, 0, 1],\n",
    "[1, 0, 0, 0, 0, 0, 0, 0, 0, 0, 0, 1, 1, 1, 1, 0, 0, 0, 0, 1],\n",
    "[1, 1, 1, 1, 1, 1, 1, 1, 1, 1, 1, 1, 1, 1, 1, 1, 1, 1, 1, 1]]\n",
    "\n",
    "\n",
    "# Convert Map 2D array to Numpy array\n",
    "grid_map = np.array(map)\n",
    "\n",
    "# Show grid map\n",
    "plt.matshow(grid_map, cmap = \"jet\")\n",
    "plt.title('Base Map')\n",
    "plt.colorbar()\n",
    "\n",
    "plt.show()"
   ]
  },
  {
   "cell_type": "markdown",
   "metadata": {
    "id": "luRN-DT83C7j"
   },
   "source": [
    "## Algorithm\n",
    "\n",
    "In order to implement the Q-learning algorithm, you should follow the next pseudocode:\n",
    "\n",
    "```verbatim\n",
    "Initialize Q(s,a) to 0 or random\n",
    "For n episodes:\n",
    "    Initialize s randomly in any free cell\n",
    "    repeat:\n",
    "        Choose action 'a' following epsilon-greedy policy\n",
    "        Take action a, observe r and s'\n",
    "        Q(s,a) <- Q(s,a) + alpha * (r + gamma * max_a Q(s',a)) - Q(s,a)\n",
    "        s <- s'\n",
    "    until the episode terminates\n",
    "endFor\n",
    "```\n",
    "\n",
    "You will have to set several parameters experimentally: n, m, epsilon, alpha and gamma."
   ]
  },
  {
   "cell_type": "markdown",
   "metadata": {
    "id": "O_BIOfiSul0H"
   },
   "source": [
    "## Environment"
   ]
  },
  {
   "cell_type": "markdown",
   "metadata": {
    "id": "45Wso3k5x0ab"
   },
   "source": [
    "In the environment class, you set the possible actions, the rewards obtained depending of those actions and the state of the agent after the action is applied.\n",
    "\n",
    "You have to fill the empty functions following the previous pseudocode."
   ]
  },
  {
   "cell_type": "code",
   "execution_count": 13,
   "metadata": {
    "id": "LXZAnv09ul0I"
   },
   "outputs": [],
   "source": [
    "from matplotlib import pyplot as plt\n",
    "import numpy as np\n",
    "import os\n",
    "import matplotlib.pyplot as plt\n",
    "from IPython.display import display, clear_output\n",
    "\n",
    "class MapEnv:\n",
    "    def __init__(self, map, goal, max_steps):\n",
    "        self.map = map\n",
    "        self.current_state = None\n",
    "        self.goal = goal.astype(np.int32)\n",
    "        self.actions = 4\n",
    "        self.steps = 0\n",
    "        self.max_steps = max_steps\n",
    "        if map[goal[0], goal[1]] != 0:\n",
    "            raise ValueError(\"Goal position is an obstacle\")\n",
    "\n",
    "    def reset(self):\n",
    "        # start the agent in a random position within the map and return agent state (cell in which it is)\n",
    "        self.steps = 0\n",
    "        free_cells = np.argwhere(self.map == 0)\n",
    "        if len(free_cells) == 0:\n",
    "            raise ValueError(\"Map contains no free cells to place the agent.\")\n",
    "        r = free_cells[np.random.choice(len(free_cells))]\n",
    "\n",
    "        self.current_state = tuple(r)\n",
    "        return self.current_state\n",
    " \n",
    "\n",
    "    def step(self, action):\n",
    "      # this function applies the action taken and returns the obtained state, a reward and a boolean that says if the episode has ended (max steps or goal reached) or not (any other case)\n",
    "      # action: 0 = up, 1 = down, 2 = left, 3 = right\n",
    "      ended = False\n",
    "      reward = -1\n",
    "      a = [(-1, 0), (1, 0),(0, -1),(0, 1)]\n",
    "\n",
    "      x,y = self.get_state()\n",
    "      new_state = self.current_state\n",
    "      dx,dy = a[action]\n",
    "      if 0 <= x+dx < self.map.shape[0] and 0 <= y+dy < self.map.shape[1] and self.map[x+dx,y+dy]!=1:\n",
    "        \n",
    "        new_state = x+dx,y+dy\n",
    "        \n",
    "        if new_state== tuple(self.goal): \n",
    "          reward = 1\n",
    "          ended = True\n",
    "        else: reward =-1\n",
    "\n",
    "      if self.steps == self.max_steps:\n",
    "        ended =True \n",
    "          \n",
    "      self.current_state = new_state\n",
    "      self.steps+=1\n",
    "\n",
    "      return new_state,reward,ended\n",
    "\n",
    "    def get_state(self):\n",
    "      # returns current state\n",
    "      return self.current_state\n",
    "\n",
    "    def render(self, i=0):\n",
    "        plt.clf()\n",
    "        plt.matshow(self.map, cmap = \"jet\")\n",
    "        plt.title('Map')\n",
    "        plt.colorbar()\n",
    "        plt.scatter(self.current_state[1], self.current_state[0], c = 'r')\n",
    "        plt.scatter(self.goal[1], self.goal[0], c = 'g')\n",
    "        # plt.savefig(\"q_learning_{0:04}.png\".format(i), dpi = 300)\n",
    "        # plt.show()\n",
    "        plt.pause(0.1) \n",
    "\n",
    "    \n",
    "    # def render_live(self, i=0, episodic_reward=0, avg_reward=0, goal_reached=False, save_frames=True):\n",
    "    #     if not hasattr(self, 'fig'):   \n",
    "    #         self.fig, self.ax = plt.subplots()  \n",
    "    #         self.im = self.ax.imshow(self.map, cmap=\"jet\")   \n",
    "    #         self.ax.scatter(self.goal[1], self.goal[0], c='g')  # Goal\n",
    "    #         self.ax.scatter(self.current_state[1], self.current_state[0], c='r')  # Agent\n",
    "    #     else:\n",
    "    #         self.ax.clear()  # Clear the previous plot\n",
    "    #         self.ax.imshow(self.map, cmap=\"jet\")  # Redraw the map\n",
    "    #         self.ax.scatter(self.goal[1], self.goal[0], c='g')   # Update goal\n",
    "    #         self.ax.scatter(self.current_state[1], self.current_state[0], c='r')  # Update agent\n",
    "        \n",
    "    #     if episodic_reward is not None:\n",
    "    #         self.ax.text(\n",
    "    #             0.05, 0.98, f\"Episodic Reward: {int(episodic_reward)}\", \n",
    "    #             transform=self.ax.transAxes, fontsize=10, color=\"white\", \n",
    "    #             verticalalignment=\"top\", horizontalalignment=\"left\", \n",
    "    #             fontweight='bold' \n",
    "                \n",
    "    #         )\n",
    "    #     if avg_reward is not None:\n",
    "    #         self.ax.text(\n",
    "    #             0.65, 0.98, f\"Average Reward: {int(avg_reward)}\", \n",
    "    #             transform=self.ax.transAxes, fontsize=10, color=\"white\", \n",
    "    #             verticalalignment=\"top\", horizontalalignment=\"left\", \n",
    "    #             fontweight='bold' \n",
    "    #         ) \n",
    "        \n",
    "    #     if goal_reached:\n",
    "    #        self.ax.text(\n",
    "    #             0.4, 0.98, f\"Goal Reached!\", \n",
    "    #             transform=self.ax.transAxes, fontsize=10, color=\"white\", \n",
    "    #             verticalalignment=\"top\", horizontalalignment=\"left\", \n",
    "    #             fontweight='bold' \n",
    "    #         ) \n",
    "        \n",
    "    #     if save_frames:\n",
    "    #         self.fig.savefig(f\"plots/q_learning_{i:04}.png\", dpi=300)  # Save frames\n",
    "    \n",
    "\n",
    "    def render_live(self, i=0, episodic_reward=0, avg_reward=0, goal_reached=False,save_frames=False):\n",
    "        clear_output(wait=True)  # Clear previous frame to create an animation effect\n",
    "\n",
    "        if not hasattr(self, 'fig'):   \n",
    "            self.fig, self.ax = plt.subplots()  \n",
    "        else:\n",
    "            self.ax.clear()  # Clear the previous plot\n",
    "        \n",
    "        # Draw the environment\n",
    "        self.ax.imshow(self.map, cmap=\"jet\")  \n",
    "        self.ax.scatter(self.goal[1], self.goal[0], c='g')  # Goal\n",
    "        self.ax.scatter(self.current_state[1], self.current_state[0], c='r')  # Agent\n",
    "        \n",
    "        # Display reward information\n",
    "        if episodic_reward is not None:\n",
    "            self.ax.text(0.05, 0.98, f\"Episodic Reward: {int(episodic_reward)}\", \n",
    "                        transform=self.ax.transAxes, fontsize=10, color=\"white\",\n",
    "                        verticalalignment=\"top\", horizontalalignment=\"left\", fontweight='bold')\n",
    "\n",
    "        if avg_reward is not None:\n",
    "            self.ax.text(0.65, 0.98, f\"Average Reward: {int(avg_reward)}\", \n",
    "                        transform=self.ax.transAxes, fontsize=10, color=\"white\",\n",
    "                        verticalalignment=\"top\", horizontalalignment=\"left\", fontweight='bold')\n",
    "\n",
    "        if goal_reached:\n",
    "            self.ax.text(0.4, 0.98, f\"Goal Reached!\", \n",
    "                        transform=self.ax.transAxes, fontsize=10, color=\"white\",\n",
    "                        verticalalignment=\"top\", horizontalalignment=\"left\", fontweight='bold')\n",
    "        \n",
    "        # Display the updated figure in Jupyter\n",
    "        display(self.fig)\n",
    "        plt.pause(0.01)  # Small pause to allow the figure to update\n",
    "\n",
    "os.makedirs('./plots/', exist_ok=True)"
   ]
  },
  {
   "cell_type": "markdown",
   "metadata": {
    "id": "OXg1_4u6ul0K"
   },
   "source": [
    "## QLearning algorithm"
   ]
  },
  {
   "cell_type": "markdown",
   "metadata": {
    "id": "k7uF89DbFVVq"
   },
   "source": [
    "QLearning class creates and trains the policy at every episode using the information provided by the environment. After the training is over, the optimal policy and the value function are obtained.\n",
    "\n",
    "As in the MapEnv class, you have to fill the empty functions following the previous pseudocode."
   ]
  },
  {
   "cell_type": "code",
   "execution_count": 14,
   "metadata": {
    "id": "3qnWaAKPul0L"
   },
   "outputs": [],
   "source": [
    "\n",
    "import tqdm\n",
    "from IPython.display import clear_output\n",
    "\n",
    "class QLearning:\n",
    "    def __init__(self, env, alpha, gamma, epsilon, n_episodes,visualize):\n",
    "        self.avg_reward = 0\n",
    "        self.env = env\n",
    "        self.alpha = alpha\n",
    "        self.gamma = gamma\n",
    "        self.epsilon = epsilon\n",
    "        self.n_episodes = n_episodes \n",
    "        self.Q = np.random.rand(env.map.shape[0], env.map.shape[1], env.actions)\n",
    "\n",
    "    def epsilon_greedy_policy(self, s, epsilon):\n",
    "        # Epsilon greedy policy (choose a random action with probability epsilon)\n",
    "        a = None\n",
    "        r = np.random.rand()\n",
    "        if r<=epsilon: a = np.random.choice(range(self.env.actions))\n",
    "        else: a = np.argmax(self.Q[s]) #a = np.max(self.Q)\n",
    "        return a\n",
    "    \n",
    "    def episode(self, alpha, epsilon,render=False):\n",
    "        # Episode execution. Generate an action with epsilon_greedy_policy, call step, appy learning function\n",
    "        # This function should return the total reward obtained in this episode\n",
    "        # ...\n",
    "        a = None\n",
    "        episodic_reward = 0\n",
    "        self.env.current_state= self.env.reset()\n",
    "        prev_state = self.env.get_state()\n",
    "        for step in range(self.env.max_steps):\n",
    "            a = self.epsilon_greedy_policy(prev_state,epsilon)\n",
    "            new_state,reward,ended = self.env.step(a)\n",
    "            self.Q[prev_state[0],prev_state[1],a] = self.Q[prev_state[0],prev_state[1],a] + \\\n",
    "            alpha * (reward + self.gamma * np.max(self.Q[new_state[0],new_state[1],:]) - self.Q[prev_state[0],prev_state[1],a])\n",
    "\n",
    "            # self.Q[prev_state[0],prev_state[1],a] =  self.Q[prev_state[0],prev_state[1],a] + \\\n",
    "            #     alpha*(reward+self.gamma*np.max(self.Q[new_state[0],new_state[1],:]))-self.Q[prev_state[0],prev_state[1],a]\n",
    "            # print(\"prev_state\",prev_state,\"action:\",a,\" next_state:\",new_state)\n",
    "            prev_state = new_state\n",
    "            episodic_reward+=reward\n",
    "            # print(\"epi_reward:\",episodic_rewar\n",
    "            if render:\n",
    "                self.env.render_live(episodic_reward=episodic_reward,avg_reward=self.avg_reward,save_frames=False)\n",
    "            if ended:\n",
    "                break\n",
    "        \n",
    "        return episodic_reward\n",
    "\n",
    "    def train(self, n_episodes, check_every_n=100,render=True):\n",
    "        \"\"\"Execute n_episodes and every `check_every_n` episodes print the average reward and store it.\n",
    "           As the initial position is random, this number will not be super stable...\"\"\"\n",
    "        reward = []\n",
    "        for eps in tqdm.tqdm(range(n_episodes)):\n",
    "            r = self.episode(self.alpha,self.epsilon,render)\n",
    "            if eps%check_every_n==0:\n",
    "                reward.append(r)\n",
    "                self.avg_reward=sum(reward)/len(reward)\n",
    "                # print(\"Average Reward:\",sum(reward)/len(reward))\n",
    "        print(\"Average Reward:\",sum(reward)/len(reward))\n",
    "\n",
    "    def test_episode(self,policy):\n",
    "        print(\"Testing Episode\")\n",
    "        # Episode execution. Generate an action with epsilon_greedy_policy, call step, appy learning function\n",
    "        # This function should return the total reward obtained in this episode\n",
    "        # ...\n",
    "        a = None\n",
    "        goal_reached=False\n",
    "        episodic_reward = 0\n",
    "        self.env.current_state= self.env.reset()\n",
    "        prev_state = self.env.get_state()\n",
    "        for step in range(self.env.max_steps): \n",
    "            a = policy[prev_state]\n",
    "            new_state,reward,ended = self.env.step(a)\n",
    "            prev_state = new_state\n",
    "            episodic_reward+=reward\n",
    "            # print(\"epi_reward:\",episodic_reward)\n",
    "            if new_state ==  tuple(self.env.goal):\n",
    "                print(\"Goal Reached\\n\")\n",
    "                goal_reached = True\n",
    "\n",
    "            self.env.render_live(i = step, episodic_reward=episodic_reward,avg_reward=None,goal_reached=goal_reached,save_frames=False)\n",
    "            if ended:\n",
    "                return step\n",
    "                break\n",
    "\n",
    "    def get_optimal_policy(self):\n",
    "        \"\"\"Once training is done, retrieve the optimal policy from Q(s,a).\"\"\"\n",
    "        policy = np.zeros(self.env.map.shape, dtype=int)\n",
    "        states = np.argwhere(self.env.map == 0)\n",
    "        for s in states:\n",
    "            opt_a = np.argmax(self.Q[s[0],s[1],:]) #in a particlar state check for best action\n",
    "            policy[s[0],s[1]]=opt_a\n",
    "        return policy\n",
    "\n",
    "    def value_function(self):\n",
    "        \"\"\"Once training is done, retrieve the optimal value function from from Q(s,a)\"\"\"\n",
    "        v = np.max(self.Q, axis = 2)\n",
    "        v[self.env.map == 1] = -np.inf\n",
    "        return v\n"
   ]
  },
  {
   "cell_type": "markdown",
   "metadata": {
    "id": "MHXBD26aul0N"
   },
   "source": [
    "## Training"
   ]
  },
  {
   "cell_type": "markdown",
   "metadata": {
    "id": "7U2V6wf_-ZVP"
   },
   "source": [
    "For the training you need to choose some parameters experimentally. Test different values to see how the training results change.\n",
    "\n",
    "Parameters:\n",
    "\n",
    "* **alpha**: learning rate of the algorithm\n",
    "* **gamma**: discount factor of the algorithm\n",
    "* **epsilon**: random action probability\n",
    "* **n_episodes**: number of episode repetitions\n",
    "* **max_steps**: maximum number of iterations per episode (in Environment class)"
   ]
  },
  {
   "cell_type": "code",
   "execution_count": 18,
   "metadata": {
    "id": "eLtF2eDUul0O"
   },
   "outputs": [
    {
     "name": "stderr",
     "output_type": "stream",
     "text": [
      "  0%|          | 5/5000 [00:00<01:42, 48.69it/s]"
     ]
    },
    {
     "name": "stderr",
     "output_type": "stream",
     "text": [
      "100%|██████████| 5000/5000 [01:18<00:00, 63.63it/s]"
     ]
    },
    {
     "name": "stdout",
     "output_type": "stream",
     "text": [
      "Average Reward: -38.75\n"
     ]
    },
    {
     "name": "stderr",
     "output_type": "stream",
     "text": [
      "\n"
     ]
    }
   ],
   "source": [
    "# Create an environment and a QLearning agent to learn it. Plot the averaged rewards stored.\n",
    "# print(np.shape(grid_map))\n",
    "# Create an environment and a QLearning agent to learn it. Plot the averaged rewards stored.\n",
    "eps=5000\n",
    "eps_steps = 50\n",
    "env = MapEnv(map=grid_map, goal=np.array([4, 4]), max_steps=eps_steps)\n",
    "agent = QLearning(env, alpha=0.01, gamma=0.95, epsilon=0.5, n_episodes=eps, visualize=False)\n",
    "agent.train(n_episodes=eps, check_every_n=eps/4, render=False)\n",
    "optimal_policy = agent.get_optimal_policy()\n",
    "optimal_value = agent.value_function()\n"
   ]
  },
  {
   "cell_type": "markdown",
   "metadata": {
    "id": "hJWZblvUul0O"
   },
   "source": [
    "## Plot value function and optimal policy"
   ]
  },
  {
   "cell_type": "code",
   "execution_count": 19,
   "metadata": {
    "id": "w_z8566Oul0P"
   },
   "outputs": [
    {
     "data": {
      "image/png": "[encoded data removed]",
      "text/plain": [
       "<Figure size 640x480 with 4 Axes>"
      ]
     },
     "metadata": {},
     "output_type": "display_data"
    }
   ],
   "source": [
    "# Plot the value function (see included figure)\n",
    "plt.subplot(1, 2, 1)\n",
    "plt.imshow(optimal_value, cmap=\"viridis\", interpolation=\"nearest\")\n",
    "plt.colorbar(label=\"Value (V(s))\")\n",
    "plt.title(\"Value Function\")\n",
    "plt.xlabel(\"State (Column)\")\n",
    "plt.ylabel(\"State (Row)\")\n",
    "\n",
    "# Plot policy (see included figure)\n",
    "plt.subplot(1, 2, 2)\n",
    "plt.imshow(optimal_policy, cmap=\"viridis\", interpolation=\"nearest\")\n",
    "plt.colorbar(label=\"Action\")\n",
    "plt.title(\"Optimal Policy\")\n",
    "plt.xlabel(\"State (Column)\")\n",
    "plt.ylabel(\"State (Row)\")\n",
    "\n",
    "plt.tight_layout()\n",
    "plt.show()"
   ]
  },
  {
   "cell_type": "markdown",
   "metadata": {
    "id": "G0HhgeIAul0Q"
   },
   "source": [
    "## Test current Policy"
   ]
  },
  {
   "cell_type": "markdown",
   "metadata": {
    "id": "To2nTQUn_HGM"
   },
   "source": [
    "Once the training is over, we can see what the robot has learnt to do. You can test it with other goal positions and other maps, to see of the policy is able to adapt to other situations."
   ]
  },
  {
   "cell_type": "code",
   "execution_count": null,
   "metadata": {},
   "outputs": [
    {
     "data": {
      "image/png": "[encoded data removed]",
      "text/plain": [
       "<Figure size 640x480 with 1 Axes>"
      ]
     },
     "metadata": {},
     "output_type": "display_data"
    }
   ],
   "source": [
    "agent.test_episode(optimal_policy)"
   ]
  },
  {
   "cell_type": "code",
   "execution_count": null,
   "metadata": {
    "id": "RTV2Y3nda1k-"
   },
   "outputs": [
    {
     "name": "stdout",
     "output_type": "stream",
     "text": [
      "Deleted: /home/mfa/Desktop/Autonomous_Labs/autonomous-labs/Lab6/plots/q_learning_0000.png\n",
      "Deleted: /home/mfa/Desktop/Autonomous_Labs/autonomous-labs/Lab6/plots/q_learning_0022.png\n",
      "Deleted: /home/mfa/Desktop/Autonomous_Labs/autonomous-labs/Lab6/plots/q_learning_0028.png\n",
      "Deleted: /home/mfa/Desktop/Autonomous_Labs/autonomous-labs/Lab6/plots/q_learning_0008.png\n",
      "Deleted: /home/mfa/Desktop/Autonomous_Labs/autonomous-labs/Lab6/plots/q_learning_0014.png\n",
      "Deleted: /home/mfa/Desktop/Autonomous_Labs/autonomous-labs/Lab6/plots/q_learning_0023.png\n",
      "Deleted: /home/mfa/Desktop/Autonomous_Labs/autonomous-labs/Lab6/plots/q_learning_0016.png\n",
      "Deleted: /home/mfa/Desktop/Autonomous_Labs/autonomous-labs/Lab6/plots/q_learning_0010.png\n",
      "Deleted: /home/mfa/Desktop/Autonomous_Labs/autonomous-labs/Lab6/plots/q_learning_0026.png\n",
      "Deleted: /home/mfa/Desktop/Autonomous_Labs/autonomous-labs/Lab6/plots/q_learning_0043.png\n",
      "Deleted: /home/mfa/Desktop/Autonomous_Labs/autonomous-labs/Lab6/plots/q_learning_0006.png\n",
      "Deleted: /home/mfa/Desktop/Autonomous_Labs/autonomous-labs/Lab6/plots/q_learning_0025.png\n",
      "Deleted: /home/mfa/Desktop/Autonomous_Labs/autonomous-labs/Lab6/plots/q_learning_0020.png\n",
      "Deleted: /home/mfa/Desktop/Autonomous_Labs/autonomous-labs/Lab6/plots/q_learning_0002.png\n",
      "Deleted: /home/mfa/Desktop/Autonomous_Labs/autonomous-labs/Lab6/plots/q_learning_0018.png\n",
      "Deleted: /home/mfa/Desktop/Autonomous_Labs/autonomous-labs/Lab6/plots/q_learning_0039.png\n",
      "Deleted: /home/mfa/Desktop/Autonomous_Labs/autonomous-labs/Lab6/plots/q_learning_0042.png\n",
      "Deleted: /home/mfa/Desktop/Autonomous_Labs/autonomous-labs/Lab6/plots/q_learning_0005.png\n",
      "Deleted: /home/mfa/Desktop/Autonomous_Labs/autonomous-labs/Lab6/plots/q_learning_0040.png\n",
      "Deleted: /home/mfa/Desktop/Autonomous_Labs/autonomous-labs/Lab6/plots/q_learning_0047.png\n",
      "Deleted: /home/mfa/Desktop/Autonomous_Labs/autonomous-labs/Lab6/plots/q_learning_0003.png\n",
      "Deleted: /home/mfa/Desktop/Autonomous_Labs/autonomous-labs/Lab6/plots/q_learning_0046.png\n",
      "Deleted: /home/mfa/Desktop/Autonomous_Labs/autonomous-labs/Lab6/plots/q_learning_0031.png\n",
      "Deleted: /home/mfa/Desktop/Autonomous_Labs/autonomous-labs/Lab6/plots/q_learning_0019.png\n",
      "Deleted: /home/mfa/Desktop/Autonomous_Labs/autonomous-labs/Lab6/plots/q_learning_0048.png\n",
      "Deleted: /home/mfa/Desktop/Autonomous_Labs/autonomous-labs/Lab6/plots/q_learning_0033.png\n",
      "Deleted: /home/mfa/Desktop/Autonomous_Labs/autonomous-labs/Lab6/plots/q_learning_0038.png\n",
      "Deleted: /home/mfa/Desktop/Autonomous_Labs/autonomous-labs/Lab6/plots/q_learning_0037.png\n",
      "Deleted: /home/mfa/Desktop/Autonomous_Labs/autonomous-labs/Lab6/plots/q_learning_0041.png\n",
      "Deleted: /home/mfa/Desktop/Autonomous_Labs/autonomous-labs/Lab6/plots/q_learning_0024.png\n",
      "Deleted: /home/mfa/Desktop/Autonomous_Labs/autonomous-labs/Lab6/plots/q_learning_0021.png\n",
      "Deleted: /home/mfa/Desktop/Autonomous_Labs/autonomous-labs/Lab6/plots/q_learning_0012.png\n",
      "Deleted: /home/mfa/Desktop/Autonomous_Labs/autonomous-labs/Lab6/plots/q_learning_0017.png\n",
      "Deleted: /home/mfa/Desktop/Autonomous_Labs/autonomous-labs/Lab6/plots/q_learning_0045.png\n",
      "Deleted: /home/mfa/Desktop/Autonomous_Labs/autonomous-labs/Lab6/plots/q_learning_0027.png\n",
      "Deleted: /home/mfa/Desktop/Autonomous_Labs/autonomous-labs/Lab6/plots/q_learning_0009.png\n",
      "Deleted: /home/mfa/Desktop/Autonomous_Labs/autonomous-labs/Lab6/plots/q_learning_0030.png\n",
      "Deleted: /home/mfa/Desktop/Autonomous_Labs/autonomous-labs/Lab6/plots/q_learning_0007.png\n",
      "Deleted: /home/mfa/Desktop/Autonomous_Labs/autonomous-labs/Lab6/plots/q_learning_0001.png\n",
      "Deleted: /home/mfa/Desktop/Autonomous_Labs/autonomous-labs/Lab6/plots/q_learning_0044.png\n",
      "Deleted: /home/mfa/Desktop/Autonomous_Labs/autonomous-labs/Lab6/plots/q_learning_0034.png\n",
      "Deleted: /home/mfa/Desktop/Autonomous_Labs/autonomous-labs/Lab6/plots/q_learning_0032.png\n",
      "Deleted: /home/mfa/Desktop/Autonomous_Labs/autonomous-labs/Lab6/plots/q_learning_0035.png\n",
      "Deleted: /home/mfa/Desktop/Autonomous_Labs/autonomous-labs/Lab6/plots/q_learning_0004.png\n",
      "Deleted: /home/mfa/Desktop/Autonomous_Labs/autonomous-labs/Lab6/plots/q_learning_0036.png\n",
      "Deleted: /home/mfa/Desktop/Autonomous_Labs/autonomous-labs/Lab6/plots/q_learning_0013.png\n",
      "Deleted: /home/mfa/Desktop/Autonomous_Labs/autonomous-labs/Lab6/plots/q_learning_0049.png\n",
      "Deleted: /home/mfa/Desktop/Autonomous_Labs/autonomous-labs/Lab6/plots/q_learning_0011.png\n",
      "Deleted: /home/mfa/Desktop/Autonomous_Labs/autonomous-labs/Lab6/plots/q_learning_0015.png\n",
      "Deleted: /home/mfa/Desktop/Autonomous_Labs/autonomous-labs/Lab6/plots/q_learning_0029.png\n",
      "Testing Episode\n"
     ]
    },
    {
     "ename": "KeyboardInterrupt",
     "evalue": "",
     "output_type": "error",
     "traceback": [
      "\u001b[0;31m---------------------------------------------------------------------------\u001b[0m",
      "\u001b[0;31mKeyboardInterrupt\u001b[0m                         Traceback (most recent call last)",
      "Cell \u001b[0;32mIn[32], line 16\u001b[0m\n\u001b[1;32m     14\u001b[0m     os\u001b[38;5;241m.\u001b[39mremove(image_file)\n\u001b[1;32m     15\u001b[0m     \u001b[38;5;28mprint\u001b[39m(\u001b[38;5;124mf\u001b[39m\u001b[38;5;124m'\u001b[39m\u001b[38;5;124mDeleted: \u001b[39m\u001b[38;5;132;01m{\u001b[39;00mimage_file\u001b[38;5;132;01m}\u001b[39;00m\u001b[38;5;124m'\u001b[39m)\n\u001b[0;32m---> 16\u001b[0m num_im \u001b[38;5;241m=\u001b[39m \u001b[43magent\u001b[49m\u001b[38;5;241;43m.\u001b[39;49m\u001b[43mtest_episode\u001b[49m\u001b[43m(\u001b[49m\u001b[43moptimal_policy\u001b[49m\u001b[43m)\u001b[49m\n",
      "Cell \u001b[0;32mIn[25], line 81\u001b[0m, in \u001b[0;36mQLearning.test_episode\u001b[0;34m(self, policy)\u001b[0m\n\u001b[1;32m     78\u001b[0m     \u001b[38;5;28mprint\u001b[39m(\u001b[38;5;124m\"\u001b[39m\u001b[38;5;124mGoal Reached\u001b[39m\u001b[38;5;130;01m\\n\u001b[39;00m\u001b[38;5;124m\"\u001b[39m)\n\u001b[1;32m     79\u001b[0m     goal_reached \u001b[38;5;241m=\u001b[39m \u001b[38;5;28;01mTrue\u001b[39;00m\n\u001b[0;32m---> 81\u001b[0m \u001b[38;5;28;43mself\u001b[39;49m\u001b[38;5;241;43m.\u001b[39;49m\u001b[43menv\u001b[49m\u001b[38;5;241;43m.\u001b[39;49m\u001b[43mrender_live\u001b[49m\u001b[43m(\u001b[49m\u001b[43mi\u001b[49m\u001b[43m \u001b[49m\u001b[38;5;241;43m=\u001b[39;49m\u001b[43m \u001b[49m\u001b[43mstep\u001b[49m\u001b[43m,\u001b[49m\u001b[43m \u001b[49m\u001b[43mepisodic_reward\u001b[49m\u001b[38;5;241;43m=\u001b[39;49m\u001b[43mepisodic_reward\u001b[49m\u001b[43m,\u001b[49m\u001b[43mavg_reward\u001b[49m\u001b[38;5;241;43m=\u001b[39;49m\u001b[38;5;28;43;01mNone\u001b[39;49;00m\u001b[43m,\u001b[49m\u001b[43mgoal_reached\u001b[49m\u001b[38;5;241;43m=\u001b[39;49m\u001b[43mgoal_reached\u001b[49m\u001b[43m)\u001b[49m\n\u001b[1;32m     82\u001b[0m \u001b[38;5;28;01mif\u001b[39;00m ended:\n\u001b[1;32m     83\u001b[0m     \u001b[38;5;28;01mreturn\u001b[39;00m step\n",
      "Cell \u001b[0;32mIn[24], line 79\u001b[0m, in \u001b[0;36mMapEnv.render_live\u001b[0;34m(self, i, episodic_reward, avg_reward, goal_reached, save_frames)\u001b[0m\n\u001b[1;32m     77\u001b[0m     \u001b[38;5;28mself\u001b[39m\u001b[38;5;241m.\u001b[39max\u001b[38;5;241m.\u001b[39mimshow(\u001b[38;5;28mself\u001b[39m\u001b[38;5;241m.\u001b[39mmap, cmap\u001b[38;5;241m=\u001b[39m\u001b[38;5;124m\"\u001b[39m\u001b[38;5;124mjet\u001b[39m\u001b[38;5;124m\"\u001b[39m)  \u001b[38;5;66;03m# Redraw the map\u001b[39;00m\n\u001b[1;32m     78\u001b[0m     \u001b[38;5;28mself\u001b[39m\u001b[38;5;241m.\u001b[39max\u001b[38;5;241m.\u001b[39mscatter(\u001b[38;5;28mself\u001b[39m\u001b[38;5;241m.\u001b[39mgoal[\u001b[38;5;241m1\u001b[39m], \u001b[38;5;28mself\u001b[39m\u001b[38;5;241m.\u001b[39mgoal[\u001b[38;5;241m0\u001b[39m], c\u001b[38;5;241m=\u001b[39m\u001b[38;5;124m'\u001b[39m\u001b[38;5;124mg\u001b[39m\u001b[38;5;124m'\u001b[39m)   \u001b[38;5;66;03m# Update goal\u001b[39;00m\n\u001b[0;32m---> 79\u001b[0m     \u001b[38;5;28;43mself\u001b[39;49m\u001b[38;5;241;43m.\u001b[39;49m\u001b[43max\u001b[49m\u001b[38;5;241;43m.\u001b[39;49m\u001b[43mscatter\u001b[49m\u001b[43m(\u001b[49m\u001b[38;5;28;43mself\u001b[39;49m\u001b[38;5;241;43m.\u001b[39;49m\u001b[43mcurrent_state\u001b[49m\u001b[43m[\u001b[49m\u001b[38;5;241;43m1\u001b[39;49m\u001b[43m]\u001b[49m\u001b[43m,\u001b[49m\u001b[43m \u001b[49m\u001b[38;5;28;43mself\u001b[39;49m\u001b[38;5;241;43m.\u001b[39;49m\u001b[43mcurrent_state\u001b[49m\u001b[43m[\u001b[49m\u001b[38;5;241;43m0\u001b[39;49m\u001b[43m]\u001b[49m\u001b[43m,\u001b[49m\u001b[43m \u001b[49m\u001b[43mc\u001b[49m\u001b[38;5;241;43m=\u001b[39;49m\u001b[38;5;124;43m'\u001b[39;49m\u001b[38;5;124;43mr\u001b[39;49m\u001b[38;5;124;43m'\u001b[39;49m\u001b[43m)\u001b[49m  \u001b[38;5;66;03m# Update agent\u001b[39;00m\n\u001b[1;32m     81\u001b[0m \u001b[38;5;28;01mif\u001b[39;00m episodic_reward \u001b[38;5;129;01mis\u001b[39;00m \u001b[38;5;129;01mnot\u001b[39;00m \u001b[38;5;28;01mNone\u001b[39;00m:\n\u001b[1;32m     82\u001b[0m     \u001b[38;5;28mself\u001b[39m\u001b[38;5;241m.\u001b[39max\u001b[38;5;241m.\u001b[39mtext(\n\u001b[1;32m     83\u001b[0m         \u001b[38;5;241m0.05\u001b[39m, \u001b[38;5;241m0.98\u001b[39m, \u001b[38;5;124mf\u001b[39m\u001b[38;5;124m\"\u001b[39m\u001b[38;5;124mEpisodic Reward: \u001b[39m\u001b[38;5;132;01m{\u001b[39;00m\u001b[38;5;28mint\u001b[39m(episodic_reward)\u001b[38;5;132;01m}\u001b[39;00m\u001b[38;5;124m\"\u001b[39m, \n\u001b[1;32m     84\u001b[0m         transform\u001b[38;5;241m=\u001b[39m\u001b[38;5;28mself\u001b[39m\u001b[38;5;241m.\u001b[39max\u001b[38;5;241m.\u001b[39mtransAxes, fontsize\u001b[38;5;241m=\u001b[39m\u001b[38;5;241m10\u001b[39m, color\u001b[38;5;241m=\u001b[39m\u001b[38;5;124m\"\u001b[39m\u001b[38;5;124mwhite\u001b[39m\u001b[38;5;124m\"\u001b[39m, \n\u001b[0;32m   (...)\u001b[0m\n\u001b[1;32m     87\u001b[0m         \n\u001b[1;32m     88\u001b[0m     )\n",
      "File \u001b[0;32m~/.local/lib/python3.8/site-packages/matplotlib/__init__.py:1446\u001b[0m, in \u001b[0;36m_preprocess_data.<locals>.inner\u001b[0;34m(ax, data, *args, **kwargs)\u001b[0m\n\u001b[1;32m   1443\u001b[0m \u001b[38;5;129m@functools\u001b[39m\u001b[38;5;241m.\u001b[39mwraps(func)\n\u001b[1;32m   1444\u001b[0m \u001b[38;5;28;01mdef\u001b[39;00m \u001b[38;5;21minner\u001b[39m(ax, \u001b[38;5;241m*\u001b[39margs, data\u001b[38;5;241m=\u001b[39m\u001b[38;5;28;01mNone\u001b[39;00m, \u001b[38;5;241m*\u001b[39m\u001b[38;5;241m*\u001b[39mkwargs):\n\u001b[1;32m   1445\u001b[0m     \u001b[38;5;28;01mif\u001b[39;00m data \u001b[38;5;129;01mis\u001b[39;00m \u001b[38;5;28;01mNone\u001b[39;00m:\n\u001b[0;32m-> 1446\u001b[0m         \u001b[38;5;28;01mreturn\u001b[39;00m \u001b[43mfunc\u001b[49m\u001b[43m(\u001b[49m\u001b[43max\u001b[49m\u001b[43m,\u001b[49m\u001b[43m \u001b[49m\u001b[38;5;241;43m*\u001b[39;49m\u001b[38;5;28;43mmap\u001b[39;49m\u001b[43m(\u001b[49m\u001b[43msanitize_sequence\u001b[49m\u001b[43m,\u001b[49m\u001b[43m \u001b[49m\u001b[43margs\u001b[49m\u001b[43m)\u001b[49m\u001b[43m,\u001b[49m\u001b[43m \u001b[49m\u001b[38;5;241;43m*\u001b[39;49m\u001b[38;5;241;43m*\u001b[39;49m\u001b[43mkwargs\u001b[49m\u001b[43m)\u001b[49m\n\u001b[1;32m   1448\u001b[0m     bound \u001b[38;5;241m=\u001b[39m new_sig\u001b[38;5;241m.\u001b[39mbind(ax, \u001b[38;5;241m*\u001b[39margs, \u001b[38;5;241m*\u001b[39m\u001b[38;5;241m*\u001b[39mkwargs)\n\u001b[1;32m   1449\u001b[0m     auto_label \u001b[38;5;241m=\u001b[39m (bound\u001b[38;5;241m.\u001b[39marguments\u001b[38;5;241m.\u001b[39mget(label_namer)\n\u001b[1;32m   1450\u001b[0m                   \u001b[38;5;129;01mor\u001b[39;00m bound\u001b[38;5;241m.\u001b[39mkwargs\u001b[38;5;241m.\u001b[39mget(label_namer))\n",
      "File \u001b[0;32m~/.local/lib/python3.8/site-packages/matplotlib/axes/_axes.py:4583\u001b[0m, in \u001b[0;36mAxes.scatter\u001b[0;34m(self, x, y, s, c, marker, cmap, norm, vmin, vmax, alpha, linewidths, edgecolors, plotnonfinite, **kwargs)\u001b[0m\n\u001b[1;32m   4580\u001b[0m \u001b[38;5;28;01mif\u001b[39;00m s \u001b[38;5;129;01mis\u001b[39;00m \u001b[38;5;28;01mNone\u001b[39;00m:\n\u001b[1;32m   4581\u001b[0m     s \u001b[38;5;241m=\u001b[39m (\u001b[38;5;241m20\u001b[39m \u001b[38;5;28;01mif\u001b[39;00m mpl\u001b[38;5;241m.\u001b[39mrcParams[\u001b[38;5;124m'\u001b[39m\u001b[38;5;124m_internal.classic_mode\u001b[39m\u001b[38;5;124m'\u001b[39m] \u001b[38;5;28;01melse\u001b[39;00m\n\u001b[1;32m   4582\u001b[0m          mpl\u001b[38;5;241m.\u001b[39mrcParams[\u001b[38;5;124m'\u001b[39m\u001b[38;5;124mlines.markersize\u001b[39m\u001b[38;5;124m'\u001b[39m] \u001b[38;5;241m*\u001b[39m\u001b[38;5;241m*\u001b[39m \u001b[38;5;241m2.0\u001b[39m)\n\u001b[0;32m-> 4583\u001b[0m s \u001b[38;5;241m=\u001b[39m \u001b[43mnp\u001b[49m\u001b[38;5;241;43m.\u001b[39;49m\u001b[43mma\u001b[49m\u001b[38;5;241;43m.\u001b[39;49m\u001b[43mravel\u001b[49m\u001b[43m(\u001b[49m\u001b[43ms\u001b[49m\u001b[43m)\u001b[49m\n\u001b[1;32m   4584\u001b[0m \u001b[38;5;28;01mif\u001b[39;00m (\u001b[38;5;28mlen\u001b[39m(s) \u001b[38;5;129;01mnot\u001b[39;00m \u001b[38;5;129;01min\u001b[39;00m (\u001b[38;5;241m1\u001b[39m, x\u001b[38;5;241m.\u001b[39msize) \u001b[38;5;129;01mor\u001b[39;00m\n\u001b[1;32m   4585\u001b[0m         (\u001b[38;5;129;01mnot\u001b[39;00m np\u001b[38;5;241m.\u001b[39missubdtype(s\u001b[38;5;241m.\u001b[39mdtype, np\u001b[38;5;241m.\u001b[39mfloating) \u001b[38;5;129;01mand\u001b[39;00m\n\u001b[1;32m   4586\u001b[0m          \u001b[38;5;129;01mnot\u001b[39;00m np\u001b[38;5;241m.\u001b[39missubdtype(s\u001b[38;5;241m.\u001b[39mdtype, np\u001b[38;5;241m.\u001b[39minteger))):\n\u001b[1;32m   4587\u001b[0m     \u001b[38;5;28;01mraise\u001b[39;00m \u001b[38;5;167;01mValueError\u001b[39;00m(\n\u001b[1;32m   4588\u001b[0m         \u001b[38;5;124m\"\u001b[39m\u001b[38;5;124ms must be a scalar, \u001b[39m\u001b[38;5;124m\"\u001b[39m\n\u001b[1;32m   4589\u001b[0m         \u001b[38;5;124m\"\u001b[39m\u001b[38;5;124mor float array-like with the same size as x and y\u001b[39m\u001b[38;5;124m\"\u001b[39m)\n",
      "File \u001b[0;32m~/.local/lib/python3.8/site-packages/numpy/ma/core.py:6852\u001b[0m, in \u001b[0;36m_frommethod.__call__\u001b[0;34m(self, a, *args, **params)\u001b[0m\n\u001b[1;32m   6849\u001b[0m     args \u001b[38;5;241m=\u001b[39m \u001b[38;5;28mlist\u001b[39m(args)\n\u001b[1;32m   6850\u001b[0m     a, args[\u001b[38;5;241m0\u001b[39m] \u001b[38;5;241m=\u001b[39m args[\u001b[38;5;241m0\u001b[39m], a\n\u001b[0;32m-> 6852\u001b[0m marr \u001b[38;5;241m=\u001b[39m \u001b[43masanyarray\u001b[49m\u001b[43m(\u001b[49m\u001b[43ma\u001b[49m\u001b[43m)\u001b[49m\n\u001b[1;32m   6853\u001b[0m method_name \u001b[38;5;241m=\u001b[39m \u001b[38;5;28mself\u001b[39m\u001b[38;5;241m.\u001b[39m\u001b[38;5;18m__name__\u001b[39m\n\u001b[1;32m   6854\u001b[0m method \u001b[38;5;241m=\u001b[39m \u001b[38;5;28mgetattr\u001b[39m(\u001b[38;5;28mtype\u001b[39m(marr), method_name, \u001b[38;5;28;01mNone\u001b[39;00m)\n",
      "File \u001b[0;32m~/.local/lib/python3.8/site-packages/numpy/ma/core.py:8132\u001b[0m, in \u001b[0;36masanyarray\u001b[0;34m(a, dtype)\u001b[0m\n\u001b[1;32m   8130\u001b[0m \u001b[38;5;28;01mif\u001b[39;00m \u001b[38;5;28misinstance\u001b[39m(a, MaskedArray) \u001b[38;5;129;01mand\u001b[39;00m (dtype \u001b[38;5;129;01mis\u001b[39;00m \u001b[38;5;28;01mNone\u001b[39;00m \u001b[38;5;129;01mor\u001b[39;00m dtype \u001b[38;5;241m==\u001b[39m a\u001b[38;5;241m.\u001b[39mdtype):\n\u001b[1;32m   8131\u001b[0m     \u001b[38;5;28;01mreturn\u001b[39;00m a\n\u001b[0;32m-> 8132\u001b[0m \u001b[38;5;28;01mreturn\u001b[39;00m \u001b[43mmasked_array\u001b[49m\u001b[43m(\u001b[49m\u001b[43ma\u001b[49m\u001b[43m,\u001b[49m\u001b[43m \u001b[49m\u001b[43mdtype\u001b[49m\u001b[38;5;241;43m=\u001b[39;49m\u001b[43mdtype\u001b[49m\u001b[43m,\u001b[49m\u001b[43m \u001b[49m\u001b[43mcopy\u001b[49m\u001b[38;5;241;43m=\u001b[39;49m\u001b[38;5;28;43;01mFalse\u001b[39;49;00m\u001b[43m,\u001b[49m\u001b[43m \u001b[49m\u001b[43mkeep_mask\u001b[49m\u001b[38;5;241;43m=\u001b[39;49m\u001b[38;5;28;43;01mTrue\u001b[39;49;00m\u001b[43m,\u001b[49m\u001b[43m \u001b[49m\u001b[43msubok\u001b[49m\u001b[38;5;241;43m=\u001b[39;49m\u001b[38;5;28;43;01mTrue\u001b[39;49;00m\u001b[43m)\u001b[49m\n",
      "File \u001b[0;32m~/.local/lib/python3.8/site-packages/numpy/ma/core.py:2833\u001b[0m, in \u001b[0;36mMaskedArray.__new__\u001b[0;34m(cls, data, mask, dtype, copy, subok, ndmin, fill_value, keep_mask, hard_mask, shrink, order)\u001b[0m\n\u001b[1;32m   2831\u001b[0m     _data \u001b[38;5;241m=\u001b[39m ndarray\u001b[38;5;241m.\u001b[39mview(_data, \u001b[38;5;28mtype\u001b[39m(data))\n\u001b[1;32m   2832\u001b[0m \u001b[38;5;28;01melse\u001b[39;00m:\n\u001b[0;32m-> 2833\u001b[0m     _data \u001b[38;5;241m=\u001b[39m \u001b[43mndarray\u001b[49m\u001b[38;5;241;43m.\u001b[39;49m\u001b[43mview\u001b[49m\u001b[43m(\u001b[49m\u001b[43m_data\u001b[49m\u001b[43m,\u001b[49m\u001b[43m \u001b[49m\u001b[38;5;28;43mcls\u001b[39;49m\u001b[43m)\u001b[49m\n\u001b[1;32m   2835\u001b[0m \u001b[38;5;66;03m# Handle the case where data is not a subclass of ndarray, but\u001b[39;00m\n\u001b[1;32m   2836\u001b[0m \u001b[38;5;66;03m# still has the _mask attribute like MaskedArrays\u001b[39;00m\n\u001b[1;32m   2837\u001b[0m \u001b[38;5;28;01mif\u001b[39;00m \u001b[38;5;28mhasattr\u001b[39m(data, \u001b[38;5;124m'\u001b[39m\u001b[38;5;124m_mask\u001b[39m\u001b[38;5;124m'\u001b[39m) \u001b[38;5;129;01mand\u001b[39;00m \u001b[38;5;129;01mnot\u001b[39;00m \u001b[38;5;28misinstance\u001b[39m(data, ndarray):\n",
      "File \u001b[0;32m~/.local/lib/python3.8/site-packages/numpy/ma/core.py:3037\u001b[0m, in \u001b[0;36mMaskedArray.__array_finalize__\u001b[0;34m(self, obj)\u001b[0m\n\u001b[1;32m   3034\u001b[0m         _mask \u001b[38;5;241m=\u001b[39m _mask\u001b[38;5;241m.\u001b[39mastype(_mask_dtype, order)\n\u001b[1;32m   3035\u001b[0m     \u001b[38;5;28;01melse\u001b[39;00m:\n\u001b[1;32m   3036\u001b[0m         \u001b[38;5;66;03m# Take a view so shape changes, etc., do not propagate back.\u001b[39;00m\n\u001b[0;32m-> 3037\u001b[0m         _mask \u001b[38;5;241m=\u001b[39m \u001b[43m_mask\u001b[49m\u001b[38;5;241;43m.\u001b[39;49m\u001b[43mview\u001b[49m\u001b[43m(\u001b[49m\u001b[43m)\u001b[49m\n\u001b[1;32m   3038\u001b[0m \u001b[38;5;28;01melse\u001b[39;00m:\n\u001b[1;32m   3039\u001b[0m     _mask \u001b[38;5;241m=\u001b[39m nomask\n",
      "\u001b[0;31mKeyboardInterrupt\u001b[0m: "
     ]
    }
   ],
   "source": [
    "# generate an animation with the agent solving the maze\n",
    "import os\n",
    "import glob\n",
    "\n",
    "# Path to the folder containing the images\n",
    "image_folder = os.path.abspath('plots/')\n",
    "# image_folder = 'plots/'  # Change to your folder path\n",
    "\n",
    "# Use glob to find all images with filenames starting with 'q_learning_'\n",
    "image_files = glob.glob(os.path.join(image_folder, 'q_learning_*.png'))\n",
    "\n",
    "# Loop through the list and delete each file\n",
    "for image_file in image_files:\n",
    "    os.remove(image_file)\n",
    "    print(f'Deleted: {image_file}')\n",
    "num_im = agent.test_episode(optimal_policy)\n"
   ]
  },
  {
   "cell_type": "code",
   "execution_count": 12,
   "metadata": {},
   "outputs": [
    {
     "ename": "NameError",
     "evalue": "name 'num_im' is not defined",
     "output_type": "error",
     "traceback": [
      "\u001b[0;31m---------------------------------------------------------------------------\u001b[0m",
      "\u001b[0;31mNameError\u001b[0m                                 Traceback (most recent call last)",
      "Cell \u001b[0;32mIn[12], line 7\u001b[0m\n\u001b[1;32m      3\u001b[0m \u001b[38;5;28;01mimport\u001b[39;00m \u001b[38;5;21;01mtime\u001b[39;00m\n\u001b[1;32m      5\u001b[0m image_folder \u001b[38;5;241m=\u001b[39m \u001b[38;5;124m'\u001b[39m\u001b[38;5;124mplots/\u001b[39m\u001b[38;5;124m'\u001b[39m  \u001b[38;5;66;03m# Path to the folder containing the images\u001b[39;00m\n\u001b[0;32m----> 7\u001b[0m \u001b[38;5;28;01mfor\u001b[39;00m i \u001b[38;5;129;01min\u001b[39;00m \u001b[38;5;28mrange\u001b[39m(\u001b[43mnum_im\u001b[49m\u001b[38;5;241m+\u001b[39m\u001b[38;5;241m1\u001b[39m):\n\u001b[1;32m      8\u001b[0m     image_path \u001b[38;5;241m=\u001b[39m os\u001b[38;5;241m.\u001b[39mpath\u001b[38;5;241m.\u001b[39mjoin(image_folder, \u001b[38;5;124mf\u001b[39m\u001b[38;5;124m'\u001b[39m\u001b[38;5;124mq_learning_\u001b[39m\u001b[38;5;132;01m{\u001b[39;00mi\u001b[38;5;132;01m:\u001b[39;00m\u001b[38;5;124m04\u001b[39m\u001b[38;5;132;01m}\u001b[39;00m\u001b[38;5;124m.png\u001b[39m\u001b[38;5;124m'\u001b[39m)\n\u001b[1;32m      9\u001b[0m     clear_output(wait\u001b[38;5;241m=\u001b[39m\u001b[38;5;28;01mTrue\u001b[39;00m)  \u001b[38;5;66;03m# Clears the previous image\u001b[39;00m\n",
      "\u001b[0;31mNameError\u001b[0m: name 'num_im' is not defined"
     ]
    }
   ],
   "source": [
    "from IPython.display import Image, display, clear_output\n",
    "import os\n",
    "import time\n",
    "\n",
    "image_folder = 'plots/'  # Path to the folder containing the images\n",
    "\n",
    "for i in range(num_im+1):\n",
    "    image_path = os.path.join(image_folder, f'q_learning_{i:04}.png')\n",
    "    clear_output(wait=True)  # Clears the previous image\n",
    "    display(Image(filename=image_path))  # Displays the current image\n",
    "    time.sleep(0.5)  # Adjust the sleep time to control the update speed\n"
   ]
  },
  {
   "cell_type": "markdown",
   "metadata": {
    "id": "aJX0sMULa1k-"
   },
   "source": [
    "## Other environemnts\n",
    "\n",
    "Create a new map (min size 15 x 15).\n",
    "\n",
    "Answer:\n",
    "\n",
    "* The policy you have just learned is able to solve this map?\n",
    "* If not, the algorithm you have implemented is able to learn a new policy to solve this map? Demonstrate one or the other"
   ]
  },
  {
   "cell_type": "markdown",
   "metadata": {
    "id": "KKfb29-0BkCV"
   },
   "source": [
    "## Submission\n",
    "\n",
    "You must deliver this Python Interactive Notebook. The file must have the name q_learning_YOUR_NAME.ipynb. Also, you must do a report commenting the problems you encountered, a discussion on how the parameters affect the training and conclusions for the results obtained.\n",
    "\n",
    "Make sure that all cells can be executed."
   ]
  },
  {
   "cell_type": "markdown",
   "metadata": {},
   "source": []
  },
  {
   "cell_type": "markdown",
   "metadata": {},
   "source": []
  }
 ],
 "metadata": {
  "colab": {
   "provenance": []
  },
  "kernelspec": {
   "display_name": "Python 3",
   "language": "python",
   "name": "python3"
  },
  "language_info": {
   "codemirror_mode": {
    "name": "ipython",
    "version": 3
   },
   "file_extension": ".py",
   "mimetype": "text/x-python",
   "name": "python",
   "nbconvert_exporter": "python",
   "pygments_lexer": "ipython3",
   "version": "3.8.10"
  },
  "orig_nbformat": 4
 },
 "nbformat": 4,
 "nbformat_minor": 0
}
